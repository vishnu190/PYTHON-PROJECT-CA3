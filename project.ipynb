{
  "nbformat": 4,
  "nbformat_minor": 0,
  "metadata": {
    "colab": {
      "name": "project.ipynb",
      "provenance": [],
      "collapsed_sections": [],
      "authorship_tag": "ABX9TyMW34qRHwg/SKViqTPy2P16",
      "include_colab_link": true
    },
    "kernelspec": {
      "name": "python3",
      "display_name": "Python 3"
    },
    "language_info": {
      "name": "python"
    }
  },
  "cells": [
    {
      "cell_type": "markdown",
      "metadata": {
        "id": "view-in-github",
        "colab_type": "text"
      },
      "source": [
        "<a href=\"https://colab.research.google.com/github/vishnu190/PYTHON-PROJECT-CA3/blob/main/project.ipynb\" target=\"_parent\"><img src=\"https://colab.research.google.com/assets/colab-badge.svg\" alt=\"Open In Colab\"/></a>"
      ]
    },
    {
      "cell_type": "code",
      "metadata": {
        "id": "QdhFQiAR8ith"
      },
      "source": [
        "import pandas as pd\n",
        "import numpy as np\n",
        "import seaborn as sns\n",
        "import matplotlib as plt"
      ],
      "execution_count": null,
      "outputs": []
    },
    {
      "cell_type": "code",
      "metadata": {
        "id": "setmeaR68qFR"
      },
      "source": [
        "from google.colab import drive"
      ],
      "execution_count": null,
      "outputs": []
    },
    {
      "cell_type": "code",
      "metadata": {
        "colab": {
          "base_uri": "https://localhost:8080/"
        },
        "id": "czSgyWtV85B-",
        "outputId": "ae91311c-037d-402d-9194-df9de3d610c5"
      },
      "source": [
        "drive.mount('/content/drive')"
      ],
      "execution_count": null,
      "outputs": [
        {
          "output_type": "stream",
          "text": [
            "Mounted at /content/drive\n"
          ],
          "name": "stdout"
        }
      ]
    },
    {
      "cell_type": "code",
      "metadata": {
        "colab": {
          "base_uri": "https://localhost:8080/"
        },
        "id": "WCb0NTzK9PcT",
        "outputId": "66669534-beb1-452b-8cc1-27f3d0917e99"
      },
      "source": [
        "data=pd.read_csv('/content/drive/MyDrive/project.csv')\n",
        "print(data.shape)\n",
        "print(data.head)\n",
        "print(data.columns)\n"
      ],
      "execution_count": null,
      "outputs": [
        {
          "output_type": "stream",
          "text": [
            "(30000, 25)\n",
            "<bound method NDFrame.head of           ID  LIMIT_BAL  SEX  ...  PAY_AMT5  PAY_AMT6  default payment next month\n",
            "0          1      20000    2  ...         0         0                           1\n",
            "1          2     120000    2  ...         0      2000                           1\n",
            "2          3      90000    2  ...      1000      5000                           0\n",
            "3          4      50000    2  ...      1069      1000                           0\n",
            "4          5      50000    1  ...       689       679                           0\n",
            "...      ...        ...  ...  ...       ...       ...                         ...\n",
            "29995  29996     220000    1  ...      5000      1000                           0\n",
            "29996  29997     150000    1  ...         0         0                           0\n",
            "29997  29998      30000    1  ...      2000      3100                           1\n",
            "29998  29999      80000    1  ...     52964      1804                           1\n",
            "29999  30000      50000    1  ...      1000      1000                           1\n",
            "\n",
            "[30000 rows x 25 columns]>\n",
            "Index(['ID', 'LIMIT_BAL', 'SEX', 'EDUCATION', 'MARRIAGE', 'AGE', 'PAY_0',\n",
            "       'PAY_2', 'PAY_3', 'PAY_4', 'PAY_5', 'PAY_6', 'BILL_AMT1', 'BILL_AMT2',\n",
            "       'BILL_AMT3', 'BILL_AMT4', 'BILL_AMT5', 'BILL_AMT6', 'PAY_AMT1',\n",
            "       'PAY_AMT2', 'PAY_AMT3', 'PAY_AMT4', 'PAY_AMT5', 'PAY_AMT6',\n",
            "       'default payment next month'],\n",
            "      dtype='object')\n"
          ],
          "name": "stdout"
        }
      ]
    },
    {
      "cell_type": "code",
      "metadata": {
        "id": "bU6VSIOO-iUG",
        "colab": {
          "base_uri": "https://localhost:8080/"
        },
        "outputId": "2a968d81-d610-40c0-985d-197dafcf3e77"
      },
      "source": [
        "data.info()"
      ],
      "execution_count": null,
      "outputs": [
        {
          "output_type": "stream",
          "text": [
            "<class 'pandas.core.frame.DataFrame'>\n",
            "RangeIndex: 30000 entries, 0 to 29999\n",
            "Data columns (total 25 columns):\n",
            " #   Column                      Non-Null Count  Dtype\n",
            "---  ------                      --------------  -----\n",
            " 0   ID                          30000 non-null  int64\n",
            " 1   LIMIT_BAL                   30000 non-null  int64\n",
            " 2   SEX                         30000 non-null  int64\n",
            " 3   EDUCATION                   30000 non-null  int64\n",
            " 4   MARRIAGE                    30000 non-null  int64\n",
            " 5   AGE                         30000 non-null  int64\n",
            " 6   PAY_0                       30000 non-null  int64\n",
            " 7   PAY_2                       30000 non-null  int64\n",
            " 8   PAY_3                       30000 non-null  int64\n",
            " 9   PAY_4                       30000 non-null  int64\n",
            " 10  PAY_5                       30000 non-null  int64\n",
            " 11  PAY_6                       30000 non-null  int64\n",
            " 12  BILL_AMT1                   30000 non-null  int64\n",
            " 13  BILL_AMT2                   30000 non-null  int64\n",
            " 14  BILL_AMT3                   30000 non-null  int64\n",
            " 15  BILL_AMT4                   30000 non-null  int64\n",
            " 16  BILL_AMT5                   30000 non-null  int64\n",
            " 17  BILL_AMT6                   30000 non-null  int64\n",
            " 18  PAY_AMT1                    30000 non-null  int64\n",
            " 19  PAY_AMT2                    30000 non-null  int64\n",
            " 20  PAY_AMT3                    30000 non-null  int64\n",
            " 21  PAY_AMT4                    30000 non-null  int64\n",
            " 22  PAY_AMT5                    30000 non-null  int64\n",
            " 23  PAY_AMT6                    30000 non-null  int64\n",
            " 24  default payment next month  30000 non-null  int64\n",
            "dtypes: int64(25)\n",
            "memory usage: 5.7 MB\n"
          ],
          "name": "stdout"
        }
      ]
    },
    {
      "cell_type": "code",
      "metadata": {
        "id": "y20SZMXoAjT-",
        "colab": {
          "base_uri": "https://localhost:8080/"
        },
        "outputId": "da4081d8-faca-48e9-b65b-e5f1a7163215"
      },
      "source": [
        "print(data.isna().sum())"
      ],
      "execution_count": null,
      "outputs": [
        {
          "output_type": "stream",
          "text": [
            "ID                            0\n",
            "LIMIT_BAL                     0\n",
            "SEX                           0\n",
            "EDUCATION                     0\n",
            "MARRIAGE                      0\n",
            "AGE                           0\n",
            "PAY_0                         0\n",
            "PAY_2                         0\n",
            "PAY_3                         0\n",
            "PAY_4                         0\n",
            "PAY_5                         0\n",
            "PAY_6                         0\n",
            "BILL_AMT1                     0\n",
            "BILL_AMT2                     0\n",
            "BILL_AMT3                     0\n",
            "BILL_AMT4                     0\n",
            "BILL_AMT5                     0\n",
            "BILL_AMT6                     0\n",
            "PAY_AMT1                      0\n",
            "PAY_AMT2                      0\n",
            "PAY_AMT3                      0\n",
            "PAY_AMT4                      0\n",
            "PAY_AMT5                      0\n",
            "PAY_AMT6                      0\n",
            "default payment next month    0\n",
            "dtype: int64\n"
          ],
          "name": "stdout"
        }
      ]
    },
    {
      "cell_type": "code",
      "metadata": {
        "colab": {
          "base_uri": "https://localhost:8080/"
        },
        "id": "1Ed-ayOuNvp_",
        "outputId": "d648bbe8-d9c8-4ad0-c014-bcec94cbf6d0"
      },
      "source": [
        "data['EDUCATION'].unique()"
      ],
      "execution_count": null,
      "outputs": [
        {
          "output_type": "execute_result",
          "data": {
            "text/plain": [
              "array([2, 1, 3, 5, 4, 6, 0])"
            ]
          },
          "metadata": {
            "tags": []
          },
          "execution_count": 7
        }
      ]
    },
    {
      "cell_type": "code",
      "metadata": {
        "colab": {
          "base_uri": "https://localhost:8080/"
        },
        "id": "OI-2nPXCOQXX",
        "outputId": "1a4cfdbb-a13a-4791-f136-7f092b6f4f6d"
      },
      "source": [
        "# Change values 4, 5, 6 to 0 and define 0 as 'others'\n",
        "# 1=graduate school, 2=university, 3=high school, 0=others\n",
        "\n",
        "data[\"EDUCATION\"] = data[\"EDUCATION\"].replace({4:0,5:0,6:0})\n",
        "data[\"EDUCATION\"].value_counts()"
      ],
      "execution_count": null,
      "outputs": [
        {
          "output_type": "execute_result",
          "data": {
            "text/plain": [
              "2    14030\n",
              "1    10585\n",
              "3     4917\n",
              "0      468\n",
              "Name: EDUCATION, dtype: int64"
            ]
          },
          "metadata": {
            "tags": []
          },
          "execution_count": 8
        }
      ]
    },
    {
      "cell_type": "code",
      "metadata": {
        "id": "csaY8MsEPNY2",
        "colab": {
          "base_uri": "https://localhost:8080/"
        },
        "outputId": "f62e4f74-a103-4a7f-c00a-a193b358c7c8"
      },
      "source": [
        "data[\"MARRIAGE\"].unique()"
      ],
      "execution_count": null,
      "outputs": [
        {
          "output_type": "execute_result",
          "data": {
            "text/plain": [
              "array([1, 2, 3, 0])"
            ]
          },
          "metadata": {
            "tags": []
          },
          "execution_count": 9
        }
      ]
    },
    {
      "cell_type": "code",
      "metadata": {
        "id": "NOW6vMx7OqBW"
      },
      "source": [
        "x_train=data[['ID', 'LIMIT_BAL', 'SEX', 'EDUCATION', 'MARRIAGE', 'AGE','PAY_0',\n",
        "       'PAY_2', 'PAY_3', 'PAY_4','BILL_AMT1', 'BILL_AMT2',\n",
        "       'BILL_AMT3', 'BILL_AMT4', 'PAY_AMT1',\n",
        "       'PAY_AMT2', 'PAY_AMT3', 'PAY_AMT4', 'PAY_AMT5', 'PAY_AMT6']]\n",
        "y_train=data['default payment next month']"
      ],
      "execution_count": null,
      "outputs": []
    },
    {
      "cell_type": "code",
      "metadata": {
        "id": "WWEP76aJOz0d",
        "colab": {
          "base_uri": "https://localhost:8080/"
        },
        "outputId": "b7e6f681-abc7-4e16-9180-3e17574a3540"
      },
      "source": [
        "print(y_train.head)\n",
        "y_train.describe()"
      ],
      "execution_count": null,
      "outputs": [
        {
          "output_type": "stream",
          "text": [
            "<bound method NDFrame.head of 0        1\n",
            "1        1\n",
            "2        0\n",
            "3        0\n",
            "4        0\n",
            "        ..\n",
            "29995    0\n",
            "29996    0\n",
            "29997    1\n",
            "29998    1\n",
            "29999    1\n",
            "Name: default payment next month, Length: 30000, dtype: int64>\n"
          ],
          "name": "stdout"
        },
        {
          "output_type": "execute_result",
          "data": {
            "text/plain": [
              "count    30000.000000\n",
              "mean         0.221200\n",
              "std          0.415062\n",
              "min          0.000000\n",
              "25%          0.000000\n",
              "50%          0.000000\n",
              "75%          0.000000\n",
              "max          1.000000\n",
              "Name: default payment next month, dtype: float64"
            ]
          },
          "metadata": {
            "tags": []
          },
          "execution_count": 11
        }
      ]
    },
    {
      "cell_type": "code",
      "metadata": {
        "id": "vieUwXA9ZFSC"
      },
      "source": [
        "df=pd.concat([x_train[['AGE','LIMIT_BAL', 'SEX', 'EDUCATION', 'MARRIAGE',]],y_train],axis=1)\n"
      ],
      "execution_count": null,
      "outputs": []
    },
    {
      "cell_type": "code",
      "metadata": {
        "colab": {
          "base_uri": "https://localhost:8080/",
          "height": 403
        },
        "id": "5qjVadexR4yj",
        "outputId": "7f17c43f-6a83-4818-f751-be2c4800fe3e"
      },
      "source": [
        "  # PERFORMING CO-RELATIONAL ANALYSIS\n",
        "col=df.corr()\n",
        "\n",
        "sns.heatmap(col,annot=True,cmap='jet',fmt='.2f',annot_kws={'size':4},\n",
        "            cbar=True)\n",
        "mask = np.zeros_like(col,dtype=np.bool)\n",
        "\n",
        "cmap = sns.diverging_palette(220,10,as_cmap=True)\n",
        "\n",
        "\n",
        "\n",
        "#i selected some of the features while creating a HEATMAP ,so that it would be clear"
      ],
      "execution_count": 41,
      "outputs": [
        {
          "output_type": "display_data",
          "data": {
            "image/png": "[encoded data removed]",
            "text/plain": [
              "<Figure size 432x288 with 2 Axes>"
            ]
          },
          "metadata": {
            "tags": [],
            "needs_background": "light"
          }
        }
      ]
    },
    {
      "cell_type": "code",
      "metadata": {
        "id": "hUfPG6Opcm06"
      },
      "source": [
        "#TO find performance \n"
      ],
      "execution_count": null,
      "outputs": []
    },
    {
      "cell_type": "code",
      "metadata": {
        "id": "226bx7Ata2_5"
      },
      "source": [
        "from sklearn.linear_model import LinearRegression\n",
        "lr=LinearRegression()\n",
        "lr.fit(x_train,y_train)\n",
        "pred_train=lr.predict(x_train)\n"
      ],
      "execution_count": null,
      "outputs": []
    },
    {
      "cell_type": "code",
      "metadata": {
        "colab": {
          "base_uri": "https://localhost:8080/"
        },
        "id": "OrPnAJdcbQcN",
        "outputId": "2da72d6a-adb1-465e-859e-35e44f386727"
      },
      "source": [
        "pred_train #print"
      ],
      "execution_count": null,
      "outputs": [
        {
          "output_type": "execute_result",
          "data": {
            "text/plain": [
              "array([0.4749352 , 0.18018483, 0.23151337, ..., 0.72501295, 0.30287945,\n",
              "       0.27675703])"
            ]
          },
          "metadata": {
            "tags": []
          },
          "execution_count": 16
        }
      ]
    },
    {
      "cell_type": "code",
      "metadata": {
        "id": "Q7IL8aswd4vJ"
      },
      "source": [
        "from sklearn.metrics import mean_squared_error,r2_score\n",
        "print(\"MSE= \",mean_squared_error(y_train,pred_train))\n",
        "print(\"R2= \",r2_score(y_train,pred_train))"
      ],
      "execution_count": null,
      "outputs": []
    },
    {
      "cell_type": "code",
      "metadata": {
        "colab": {
          "base_uri": "https://localhost:8080/"
        },
        "id": "I6DrJKMmbZiY",
        "outputId": "49fa371b-ff4d-41cc-e979-6d30fb476051"
      },
      "source": [
        "\n",
        "c=lr.intercept_\n",
        "m=lr.coef_\n",
        "print(\"SLOPE= \",m)\n",
        "print(\"INTERCEPT= \",c)\n"
      ],
      "execution_count": null,
      "outputs": [
        {
          "output_type": "stream",
          "text": [
            "SLOPE=  [-1.47502907e-07 -7.06530720e-08 -1.53158712e-02 -1.85240366e-03\n",
            " -2.18344454e-02  1.20503890e-03  9.59263228e-02  1.99484715e-02\n",
            "  1.18637440e-02  7.48692454e-03 -6.48240118e-07  1.63915393e-07\n",
            "  2.13237315e-08  3.81656596e-08 -7.58186286e-07 -2.22403003e-07\n",
            " -3.56108531e-08 -2.08553668e-07 -2.65810300e-07 -1.29281010e-07]\n",
            "INTERCEPT=  0.2933661917508323\n"
          ],
          "name": "stdout"
        }
      ]
    },
    {
      "cell_type": "code",
      "metadata": {
        "id": "ZcyxvxgsSsLB"
      },
      "source": [
        "#print('y=%.fx + %.2fc'%(m,c))"
      ],
      "execution_count": null,
      "outputs": []
    },
    {
      "cell_type": "code",
      "metadata": {
        "id": "etbxmT87eazb"
      },
      "source": [
        "import matplotlib.pyplot as plt\n",
        "plt.scatter(x_train['LIMIT_BAL'],pred_train,label='REGRESSION SCALE',c='y',lw=2)\n",
        "plt.legend()"
      ],
      "execution_count": null,
      "outputs": []
    },
    {
      "cell_type": "code",
      "metadata": {
        "id": "rPlgi9VcpmIJ"
      },
      "source": [
        "from sklearn.linear_model import ElasticNet\n",
        "lr=ElasticNet()\n",
        "lr.fit(x_train,y_train)\n",
        "pred_train=lr.predict(x_train)\n",
        "print(pred_train)\n",
        "print('TRain MSE=',mean_squared_error(y_train,lr.predict(x_train)))\n",
        "print('R2 train=',r2_score(y_train,lr.predict(x_train)))\n"
      ],
      "execution_count": null,
      "outputs": []
    },
    {
      "cell_type": "code",
      "metadata": {
        "id": "7hsbbzCnqV7s"
      },
      "source": [
        "from sklearn.linear_model import Lasso\n",
        "lr=Lasso()\n",
        "lr.fit(x_train,y_train)\n",
        "pred_train=lr.predict(x_train)\n",
        "print(pred_train)\n",
        "print('TRain MSE=',mean_squared_error(y_train,lr.predict(x_train)))\n",
        "print('R2 train=',r2_score(y_train,lr.predict(x_train)))"
      ],
      "execution_count": null,
      "outputs": []
    },
    {
      "cell_type": "code",
      "metadata": {
        "id": "XcVrMDHpp8Op"
      },
      "source": [
        "from sklearn.linear_model import Ridge\n",
        "lr=Ridge()\n",
        "lr.fit(x_train,y_train)\n",
        "pred_train=lr.predict(x_train)\n",
        "print(pred_train)\n",
        "print('TRain MSE=',mean_squared_error(y_train,lr.predict(x_train)))\n",
        "print('R2 train=',r2_score(y_train,lr.predict(x_train)))"
      ],
      "execution_count": null,
      "outputs": []
    },
    {
      "cell_type": "markdown",
      "metadata": {
        "id": "r2CquNWyqOKI"
      },
      "source": [
        "CLEARLY RIDGE IS SHOWING BETTER PERFORMANCE THAN ELASTIC NET AND LASSO\n"
      ]
    },
    {
      "cell_type": "code",
      "metadata": {
        "id": "ouXugtwTrFfH"
      },
      "source": [
        "# TERY ANOTHER MODEL\n",
        "####### load a model\n",
        "from sklearn.tree import DecisionTreeRegressor\n",
        "lr=DecisionTreeRegressor(max_depth=3)\n",
        "lr.fit(x_train,y_train)\n",
        "pred_train=lr.predict(x_train)\n",
        "print(pred_train)\n",
        "print('TRain MSE=',mean_squared_error(y_train,lr.predict(x_train)))\n",
        "print('R2 train=',r2_score(y_train,lr.predict(x_train)))"
      ],
      "execution_count": null,
      "outputs": []
    },
    {
      "cell_type": "markdown",
      "metadata": {
        "id": "F3EcJd7mrbN1"
      },
      "source": [
        "CLEARLY DECISION TREE IS SHOWING BETTER PERFORMANCE THAN ELASTIC NET\n"
      ]
    },
    {
      "cell_type": "code",
      "metadata": {
        "id": "z2e4fWVCrf3F"
      },
      "source": [
        "#Try another model\n",
        "from sklearn.ensemble import RandomForestRegressor\n",
        "lr=RandomForestRegressor(max_depth=3)\n",
        "lr.fit(x_train,y_train)\n",
        "pred_train=lr.predict(x_train)\n",
        "print(pred_train)\n",
        "print('TRain MSE=',mean_squared_error(y_train,lr.predict(x_train)))\n",
        "print('R2 train=',r2_score(y_train,lr.predict(x_train)))"
      ],
      "execution_count": null,
      "outputs": []
    },
    {
      "cell_type": "code",
      "metadata": {
        "id": "F-1EIiHbXHsW"
      },
      "source": [
        ""
      ],
      "execution_count": null,
      "outputs": []
    }
  ]
}