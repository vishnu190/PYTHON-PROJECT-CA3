{
  "nbformat": 4,
  "nbformat_minor": 0,
  "metadata": {
    "colab": {
      "name": "project.ipynb",
      "provenance": [],
      "collapsed_sections": [],
      "authorship_tag": "ABX9TyN3SC4Xo/QMaGs114FisqXG",
      "include_colab_link": true
    },
    "kernelspec": {
      "name": "python3",
      "display_name": "Python 3"
    },
    "language_info": {
      "name": "python"
    }
  },
  "cells": [
    {
      "cell_type": "markdown",
      "metadata": {
        "id": "view-in-github",
        "colab_type": "text"
      },
      "source": [
        "<a href=\"https://colab.research.google.com/github/vishnu190/PYTHON-PROJECT-CA3/blob/main/Default_credit_card_PROJECT.ipynb\" target=\"_parent\"><img src=\"https://colab.research.google.com/assets/colab-badge.svg\" alt=\"Open In Colab\"/></a>"
      ]
    },
    {
      "cell_type": "code",
      "metadata": {
        "id": "QdhFQiAR8ith"
      },
      "source": [
        "import pandas as pd\n",
        "import numpy as np\n",
        "import seaborn as sns\n",
        "import matplotlib as plt"
      ],
      "execution_count": 2,
      "outputs": []
    },
    {
      "cell_type": "code",
      "metadata": {
        "id": "setmeaR68qFR"
      },
      "source": [
        "from google.colab import drive"
      ],
      "execution_count": 3,
      "outputs": []
    },
    {
      "cell_type": "code",
      "metadata": {
        "colab": {
          "base_uri": "https://localhost:8080/"
        },
        "id": "czSgyWtV85B-",
        "outputId": "d6316072-1e08-4787-a00b-33440aabf072"
      },
      "source": [
        "drive.mount('/content/drive')"
      ],
      "execution_count": 4,
      "outputs": [
        {
          "output_type": "stream",
          "text": [
            "Mounted at /content/drive\n"
          ],
          "name": "stdout"
        }
      ]
    },
    {
      "cell_type": "code",
      "metadata": {
        "colab": {
          "base_uri": "https://localhost:8080/"
        },
        "id": "WCb0NTzK9PcT",
        "outputId": "eaf113da-258e-4d28-e01f-fe72e254d4a6"
      },
      "source": [
        "data=pd.read_csv('/content/drive/MyDrive/project.csv')\n",
        "print(data.shape)\n",
        "print(data.head)\n",
        "print(data.columns)\n"
      ],
      "execution_count": 5,
      "outputs": [
        {
          "output_type": "stream",
          "text": [
            "(30000, 25)\n",
            "<bound method NDFrame.head of           ID  LIMIT_BAL  SEX  ...  PAY_AMT5  PAY_AMT6  default payment next month\n",
            "0          1      20000    2  ...         0         0                           1\n",
            "1          2     120000    2  ...         0      2000                           1\n",
            "2          3      90000    2  ...      1000      5000                           0\n",
            "3          4      50000    2  ...      1069      1000                           0\n",
            "4          5      50000    1  ...       689       679                           0\n",
            "...      ...        ...  ...  ...       ...       ...                         ...\n",
            "29995  29996     220000    1  ...      5000      1000                           0\n",
            "29996  29997     150000    1  ...         0         0                           0\n",
            "29997  29998      30000    1  ...      2000      3100                           1\n",
            "29998  29999      80000    1  ...     52964      1804                           1\n",
            "29999  30000      50000    1  ...      1000      1000                           1\n",
            "\n",
            "[30000 rows x 25 columns]>\n",
            "Index(['ID', 'LIMIT_BAL', 'SEX', 'EDUCATION', 'MARRIAGE', 'AGE', 'PAY_0',\n",
            "       'PAY_2', 'PAY_3', 'PAY_4', 'PAY_5', 'PAY_6', 'BILL_AMT1', 'BILL_AMT2',\n",
            "       'BILL_AMT3', 'BILL_AMT4', 'BILL_AMT5', 'BILL_AMT6', 'PAY_AMT1',\n",
            "       'PAY_AMT2', 'PAY_AMT3', 'PAY_AMT4', 'PAY_AMT5', 'PAY_AMT6',\n",
            "       'default payment next month'],\n",
            "      dtype='object')\n"
          ],
          "name": "stdout"
        }
      ]
    },
    {
      "cell_type": "code",
      "metadata": {
        "id": "bU6VSIOO-iUG",
        "colab": {
          "base_uri": "https://localhost:8080/"
        },
        "outputId": "d5085c7e-a090-4a39-bbf7-c2e48917eb23"
      },
      "source": [
        "data.info()"
      ],
      "execution_count": 6,
      "outputs": [
        {
          "output_type": "stream",
          "text": [
            "<class 'pandas.core.frame.DataFrame'>\n",
            "RangeIndex: 30000 entries, 0 to 29999\n",
            "Data columns (total 25 columns):\n",
            " #   Column                      Non-Null Count  Dtype\n",
            "---  ------                      --------------  -----\n",
            " 0   ID                          30000 non-null  int64\n",
            " 1   LIMIT_BAL                   30000 non-null  int64\n",
            " 2   SEX                         30000 non-null  int64\n",
            " 3   EDUCATION                   30000 non-null  int64\n",
            " 4   MARRIAGE                    30000 non-null  int64\n",
            " 5   AGE                         30000 non-null  int64\n",
            " 6   PAY_0                       30000 non-null  int64\n",
            " 7   PAY_2                       30000 non-null  int64\n",
            " 8   PAY_3                       30000 non-null  int64\n",
            " 9   PAY_4                       30000 non-null  int64\n",
            " 10  PAY_5                       30000 non-null  int64\n",
            " 11  PAY_6                       30000 non-null  int64\n",
            " 12  BILL_AMT1                   30000 non-null  int64\n",
            " 13  BILL_AMT2                   30000 non-null  int64\n",
            " 14  BILL_AMT3                   30000 non-null  int64\n",
            " 15  BILL_AMT4                   30000 non-null  int64\n",
            " 16  BILL_AMT5                   30000 non-null  int64\n",
            " 17  BILL_AMT6                   30000 non-null  int64\n",
            " 18  PAY_AMT1                    30000 non-null  int64\n",
            " 19  PAY_AMT2                    30000 non-null  int64\n",
            " 20  PAY_AMT3                    30000 non-null  int64\n",
            " 21  PAY_AMT4                    30000 non-null  int64\n",
            " 22  PAY_AMT5                    30000 non-null  int64\n",
            " 23  PAY_AMT6                    30000 non-null  int64\n",
            " 24  default payment next month  30000 non-null  int64\n",
            "dtypes: int64(25)\n",
            "memory usage: 5.7 MB\n"
          ],
          "name": "stdout"
        }
      ]
    },
    {
      "cell_type": "code",
      "metadata": {
        "id": "y20SZMXoAjT-",
        "colab": {
          "base_uri": "https://localhost:8080/"
        },
        "outputId": "831469bf-0bcc-42ad-f2d1-58443fdba734"
      },
      "source": [
        "print(data.isna().sum())"
      ],
      "execution_count": 7,
      "outputs": [
        {
          "output_type": "stream",
          "text": [
            "ID                            0\n",
            "LIMIT_BAL                     0\n",
            "SEX                           0\n",
            "EDUCATION                     0\n",
            "MARRIAGE                      0\n",
            "AGE                           0\n",
            "PAY_0                         0\n",
            "PAY_2                         0\n",
            "PAY_3                         0\n",
            "PAY_4                         0\n",
            "PAY_5                         0\n",
            "PAY_6                         0\n",
            "BILL_AMT1                     0\n",
            "BILL_AMT2                     0\n",
            "BILL_AMT3                     0\n",
            "BILL_AMT4                     0\n",
            "BILL_AMT5                     0\n",
            "BILL_AMT6                     0\n",
            "PAY_AMT1                      0\n",
            "PAY_AMT2                      0\n",
            "PAY_AMT3                      0\n",
            "PAY_AMT4                      0\n",
            "PAY_AMT5                      0\n",
            "PAY_AMT6                      0\n",
            "default payment next month    0\n",
            "dtype: int64\n"
          ],
          "name": "stdout"
        }
      ]
    },
    {
      "cell_type": "code",
      "metadata": {
        "colab": {
          "base_uri": "https://localhost:8080/"
        },
        "id": "Imw3GBqCGais",
        "outputId": "66d79727-0825-4a24-ac8d-2768c6467184"
      },
      "source": [
        "data['default payment next month'].unique() # our target class"
      ],
      "execution_count": 58,
      "outputs": [
        {
          "output_type": "execute_result",
          "data": {
            "text/plain": [
              "array([1, 0])"
            ]
          },
          "metadata": {
            "tags": []
          },
          "execution_count": 58
        }
      ]
    },
    {
      "cell_type": "markdown",
      "metadata": {
        "id": "d9rlSl-4Go2Y"
      },
      "source": [
        "# **'default payment next month'** is our target class"
      ]
    },
    {
      "cell_type": "code",
      "metadata": {
        "colab": {
          "base_uri": "https://localhost:8080/"
        },
        "id": "1Ed-ayOuNvp_",
        "outputId": "d1db92be-7056-413a-efdc-700dac2713e9"
      },
      "source": [
        "data['EDUCATION'].unique()"
      ],
      "execution_count": 8,
      "outputs": [
        {
          "output_type": "execute_result",
          "data": {
            "text/plain": [
              "array([2, 1, 3, 5, 4, 6, 0])"
            ]
          },
          "metadata": {
            "tags": []
          },
          "execution_count": 8
        }
      ]
    },
    {
      "cell_type": "code",
      "metadata": {
        "colab": {
          "base_uri": "https://localhost:8080/"
        },
        "id": "OI-2nPXCOQXX",
        "outputId": "64eefefd-d020-400f-ebb5-c1160764a411"
      },
      "source": [
        "# Change values 4, 5, 6 to 0 and define 0 as 'others'\n",
        "# 1=graduate school, 2=university, 3=high school, 0=others\n",
        "\n",
        "data[\"EDUCATION\"] = data[\"EDUCATION\"].replace({4:0,5:0,6:0})\n",
        "data[\"EDUCATION\"].value_counts()"
      ],
      "execution_count": 9,
      "outputs": [
        {
          "output_type": "execute_result",
          "data": {
            "text/plain": [
              "2    14030\n",
              "1    10585\n",
              "3     4917\n",
              "0      468\n",
              "Name: EDUCATION, dtype: int64"
            ]
          },
          "metadata": {
            "tags": []
          },
          "execution_count": 9
        }
      ]
    },
    {
      "cell_type": "code",
      "metadata": {
        "id": "csaY8MsEPNY2",
        "colab": {
          "base_uri": "https://localhost:8080/"
        },
        "outputId": "8effd762-fbae-498f-f914-572f540ba683"
      },
      "source": [
        "data[\"MARRIAGE\"].unique()"
      ],
      "execution_count": 10,
      "outputs": [
        {
          "output_type": "execute_result",
          "data": {
            "text/plain": [
              "array([1, 2, 3, 0])"
            ]
          },
          "metadata": {
            "tags": []
          },
          "execution_count": 10
        }
      ]
    },
    {
      "cell_type": "code",
      "metadata": {
        "id": "NOW6vMx7OqBW"
      },
      "source": [
        "x_train=data[['ID', 'LIMIT_BAL', 'SEX', 'EDUCATION', 'MARRIAGE', 'AGE','PAY_0',\n",
        "       'PAY_2', 'PAY_3', 'PAY_4','BILL_AMT1', 'BILL_AMT2',\n",
        "       'BILL_AMT3', 'BILL_AMT4', 'PAY_AMT1',\n",
        "       'PAY_AMT2', 'PAY_AMT3', 'PAY_AMT4', 'PAY_AMT5', 'PAY_AMT6']]\n",
        "y_train=data['default payment next month']"
      ],
      "execution_count": 11,
      "outputs": []
    },
    {
      "cell_type": "code",
      "metadata": {
        "id": "WWEP76aJOz0d",
        "colab": {
          "base_uri": "https://localhost:8080/"
        },
        "outputId": "1919baf2-a631-4681-d187-d133a67deecb"
      },
      "source": [
        "print(y_train.head)\n",
        "y_train.describe()"
      ],
      "execution_count": 12,
      "outputs": [
        {
          "output_type": "stream",
          "text": [
            "<bound method NDFrame.head of 0        1\n",
            "1        1\n",
            "2        0\n",
            "3        0\n",
            "4        0\n",
            "        ..\n",
            "29995    0\n",
            "29996    0\n",
            "29997    1\n",
            "29998    1\n",
            "29999    1\n",
            "Name: default payment next month, Length: 30000, dtype: int64>\n"
          ],
          "name": "stdout"
        },
        {
          "output_type": "execute_result",
          "data": {
            "text/plain": [
              "count    30000.000000\n",
              "mean         0.221200\n",
              "std          0.415062\n",
              "min          0.000000\n",
              "25%          0.000000\n",
              "50%          0.000000\n",
              "75%          0.000000\n",
              "max          1.000000\n",
              "Name: default payment next month, dtype: float64"
            ]
          },
          "metadata": {
            "tags": []
          },
          "execution_count": 12
        }
      ]
    },
    {
      "cell_type": "code",
      "metadata": {
        "id": "vieUwXA9ZFSC"
      },
      "source": [
        "df=pd.concat([x_train[['AGE','LIMIT_BAL', 'SEX', 'EDUCATION', 'MARRIAGE',]],y_train],axis=1)\n"
      ],
      "execution_count": 15,
      "outputs": []
    },
    {
      "cell_type": "code",
      "metadata": {
        "colab": {
          "base_uri": "https://localhost:8080/",
          "height": 403
        },
        "id": "5qjVadexR4yj",
        "outputId": "3a5a9a01-836c-4676-8d70-f2a4a32119f2"
      },
      "source": [
        "  # PERFORMING CO-RELATIONAL ANALYSIS\n",
        "col=df.corr()\n",
        "\n",
        "sns.heatmap(col,annot=True,cmap='jet',fmt='.2f',annot_kws={'size':15},\n",
        "            cbar=True)\n",
        "mask = np.zeros_like(col,dtype=np.bool)\n",
        "\n",
        "cmap = sns.diverging_palette(220,10,as_cmap=True)\n",
        "\n",
        "\n",
        "\n",
        "#i selected some of the features while creating a HEATMAP ,so that it would be clear"
      ],
      "execution_count": 16,
      "outputs": [
        {
          "output_type": "display_data",
          "data": {
            "image/png": "[encoded data removed]",
            "text/plain": [
              "<Figure size 432x288 with 2 Axes>"
            ]
          },
          "metadata": {
            "tags": [],
            "needs_background": "light"
          }
        }
      ]
    },
    {
      "cell_type": "markdown",
      "metadata": {
        "id": "7yZp3ybwrWOy"
      },
      "source": [
        "CHECKING THE DEFAULT PAYMENTS FOR NEXT MONTHS \n",
        "look down"
      ]
    },
    {
      "cell_type": "code",
      "metadata": {
        "colab": {
          "base_uri": "https://localhost:8080/",
          "height": 366
        },
        "id": "JL98sxo4rV1c",
        "outputId": "6dccaaa0-0b93-4707-840b-291c84af800e"
      },
      "source": [
        "sns.countplot(df['default payment next month'])\n",
        "plt.title('Histogram of payment defaults')\n",
        "plt.xticks((0,1),('Default','no error'))\n",
        "plt.xlabel('Default payments')"
      ],
      "execution_count": 35,
      "outputs": [
        {
          "output_type": "stream",
          "text": [
            "/usr/local/lib/python3.7/dist-packages/seaborn/_decorators.py:43: FutureWarning: Pass the following variable as a keyword arg: x. From version 0.12, the only valid positional argument will be `data`, and passing other arguments without an explicit keyword will result in an error or misinterpretation.\n",
            "  FutureWarning\n"
          ],
          "name": "stderr"
        },
        {
          "output_type": "execute_result",
          "data": {
            "text/plain": [
              "Text(0.5, 0, 'Default payments')"
            ]
          },
          "metadata": {
            "tags": []
          },
          "execution_count": 35
        },
        {
          "output_type": "display_data",
          "data": {
            "image/png": "[encoded data removed]",
            "text/plain": [
              "<Figure size 432x288 with 1 Axes>"
            ]
          },
          "metadata": {
            "tags": [],
            "needs_background": "light"
          }
        }
      ]
    },
    {
      "cell_type": "code",
      "metadata": {
        "colab": {
          "base_uri": "https://localhost:8080/",
          "height": 350
        },
        "id": "fwS2-kYXmhMU",
        "outputId": "614c4a5f-e41f-4c85-f8c2-0e05e0a50720"
      },
      "source": [
        "sns.distplot(data['AGE'] ,kde=True, color ='red', bins = 30)\n"
      ],
      "execution_count": 66,
      "outputs": [
        {
          "output_type": "stream",
          "text": [
            "/usr/local/lib/python3.7/dist-packages/seaborn/distributions.py:2557: FutureWarning: `distplot` is a deprecated function and will be removed in a future version. Please adapt your code to use either `displot` (a figure-level function with similar flexibility) or `histplot` (an axes-level function for histograms).\n",
            "  warnings.warn(msg, FutureWarning)\n"
          ],
          "name": "stderr"
        },
        {
          "output_type": "execute_result",
          "data": {
            "text/plain": [
              "<matplotlib.axes._subplots.AxesSubplot at 0x7f73daad29d0>"
            ]
          },
          "metadata": {
            "tags": []
          },
          "execution_count": 66
        },
        {
          "output_type": "display_data",
          "data": {
            "image/png": "[encoded data removed]",
            "text/plain": [
              "<Figure size 432x288 with 1 Axes>"
            ]
          },
          "metadata": {
            "tags": [],
            "needs_background": "light"
          }
        }
      ]
    },
    {
      "cell_type": "code",
      "metadata": {
        "colab": {
          "base_uri": "https://localhost:8080/",
          "height": 512
        },
        "id": "IHo3YMbbp8MW",
        "outputId": "56a1ec6d-9174-49ef-e62f-b9cc43a4221b"
      },
      "source": [
        "sns.countplot('MARRIAGE',data=data,hue='default payment next month')\n",
        "plt.xticks((0,1,2,3),('Not Provided','Married','Single','Unknown'),rotation=45)"
      ],
      "execution_count": 37,
      "outputs": [
        {
          "output_type": "stream",
          "text": [
            "/usr/local/lib/python3.7/dist-packages/seaborn/_decorators.py:43: FutureWarning: Pass the following variable as a keyword arg: x. From version 0.12, the only valid positional argument will be `data`, and passing other arguments without an explicit keyword will result in an error or misinterpretation.\n",
            "  FutureWarning\n"
          ],
          "name": "stderr"
        },
        {
          "output_type": "execute_result",
          "data": {
            "text/plain": [
              "([<matplotlib.axis.XTick at 0x7f73dd31a690>,\n",
              "  <matplotlib.axis.XTick at 0x7f73dd31a710>,\n",
              "  <matplotlib.axis.XTick at 0x7f73db312090>,\n",
              "  <matplotlib.axis.XTick at 0x7f73db2d6210>],\n",
              " [Text(0, 0, 'Not Provided'),\n",
              "  Text(0, 0, 'Married'),\n",
              "  Text(0, 0, 'Single'),\n",
              "  Text(0, 0, 'Unknown')])"
            ]
          },
          "metadata": {
            "tags": []
          },
          "execution_count": 37
        },
        {
          "output_type": "display_data",
          "data": {
            "image/png": "[encoded data removed]",
            "text/plain": [
              "<Figure size 432x288 with 1 Axes>"
            ]
          },
          "metadata": {
            "tags": [],
            "needs_background": "light"
          }
        }
      ]
    },
    {
      "cell_type": "markdown",
      "metadata": {
        "id": "qUV-gVVytLqH"
      },
      "source": [
        "MARITAL STATUS ANALYSIS=======\n",
        "\n",
        "in case of MARRIED less defaults\n",
        "\n",
        "in case of SINGLE less defaults\n",
        "\n",
        "0 =NO 1= YES\n"
      ]
    },
    {
      "cell_type": "code",
      "metadata": {
        "colab": {
          "base_uri": "https://localhost:8080/",
          "height": 378
        },
        "id": "8dkObeb1t95V",
        "outputId": "6da27fe5-803b-4143-9b09-055cf160a1bc"
      },
      "source": [
        "plot = sns.countplot(df['LIMIT_BAL'],hue = df['default payment next month'])\n",
        "plot.set_xticks(plot.get_xticks()[::5])\n",
        "plot = plt.xticks(rotation=90)\n",
        "plt.title('Histogram of Credit Limit Balances')\n",
        "L = plt.legend(title='Default')\n",
        "L.get_texts()[0].set_text('No')\n",
        "L.get_texts()[1].set_text('Yes')"
      ],
      "execution_count": 38,
      "outputs": [
        {
          "output_type": "stream",
          "text": [
            "/usr/local/lib/python3.7/dist-packages/seaborn/_decorators.py:43: FutureWarning: Pass the following variable as a keyword arg: x. From version 0.12, the only valid positional argument will be `data`, and passing other arguments without an explicit keyword will result in an error or misinterpretation.\n",
            "  FutureWarning\n"
          ],
          "name": "stderr"
        },
        {
          "output_type": "display_data",
          "data": {
            "image/png": "[encoded data removed]",
            "text/plain": [
              "<Figure size 432x288 with 1 Axes>"
            ]
          },
          "metadata": {
            "tags": [],
            "needs_background": "light"
          }
        }
      ]
    },
    {
      "cell_type": "markdown",
      "metadata": {
        "id": "geKew-Jh48eA"
      },
      "source": [
        "Kind of a hard figure to see but shows the reationship between a persons balance limit and thier defualt. Generally a higher percentage of people with lower limit balances will end up defaulting. If you're a 'high risk' applicant the bank usually will only approve you for a smaller line of credit. This graph might help show why that is."
      ]
    },
    {
      "cell_type": "code",
      "metadata": {
        "colab": {
          "base_uri": "https://localhost:8080/",
          "height": 366
        },
        "id": "UlpTvvsasOl0",
        "outputId": "681ca3af-1cde-43e9-9600-550f1698f424"
      },
      "source": [
        "#plot graph of marital status and default payments \n",
        "sns.countplot('EDUCATION',hue='default payment next month',data=data)\n",
        "plt.title('Educational Distribution')"
      ],
      "execution_count": 39,
      "outputs": [
        {
          "output_type": "stream",
          "text": [
            "/usr/local/lib/python3.7/dist-packages/seaborn/_decorators.py:43: FutureWarning: Pass the following variable as a keyword arg: x. From version 0.12, the only valid positional argument will be `data`, and passing other arguments without an explicit keyword will result in an error or misinterpretation.\n",
            "  FutureWarning\n"
          ],
          "name": "stderr"
        },
        {
          "output_type": "execute_result",
          "data": {
            "text/plain": [
              "Text(0.5, 1.0, 'Educational Distribution')"
            ]
          },
          "metadata": {
            "tags": []
          },
          "execution_count": 39
        },
        {
          "output_type": "display_data",
          "data": {
            "image/png": "[encoded data removed]",
            "text/plain": [
              "<Figure size 432x288 with 1 Axes>"
            ]
          },
          "metadata": {
            "tags": [],
            "needs_background": "light"
          }
        }
      ]
    },
    {
      "cell_type": "markdown",
      "metadata": {
        "id": "ioeiTUGSsyTd"
      },
      "source": [
        "Our debtors are mostly educated people. There appears to be no significance in the relationship between education and defaulting on your credit card.\n",
        "\n",
        "0 =NO\n",
        "1= YES"
      ]
    },
    {
      "cell_type": "code",
      "metadata": {
        "colab": {
          "base_uri": "https://localhost:8080/",
          "height": 678
        },
        "id": "WO-XgxaJo20Q",
        "outputId": "eebe394c-48de-456c-9112-b4767d322f37"
      },
      "source": [
        "sns.distplot(data['BILL_AMT1'],color='red')\n",
        "plt.title('Distribution of Bill Amounts in 1st month')\n",
        "plt.xlabel('Money Owed')\n",
        "plt.xlim((-50000,600000))\n",
        "plt.show()\n",
        "sns.distplot(data['BILL_AMT6'],color='yellow')\n",
        "plt.title('Distribution of Bill Amounts in 6th month')\n",
        "plt.xlabel('Money Owed')\n",
        "plt.xlim((-50000,600000))\n"
      ],
      "execution_count": 40,
      "outputs": [
        {
          "output_type": "stream",
          "text": [
            "/usr/local/lib/python3.7/dist-packages/seaborn/distributions.py:2557: FutureWarning: `distplot` is a deprecated function and will be removed in a future version. Please adapt your code to use either `displot` (a figure-level function with similar flexibility) or `histplot` (an axes-level function for histograms).\n",
            "  warnings.warn(msg, FutureWarning)\n"
          ],
          "name": "stderr"
        },
        {
          "output_type": "display_data",
          "data": {
            "image/png": "[encoded data removed]",
            "text/plain": [
              "<Figure size 432x288 with 1 Axes>"
            ]
          },
          "metadata": {
            "tags": [],
            "needs_background": "light"
          }
        },
        {
          "output_type": "stream",
          "text": [
            "/usr/local/lib/python3.7/dist-packages/seaborn/distributions.py:2557: FutureWarning: `distplot` is a deprecated function and will be removed in a future version. Please adapt your code to use either `displot` (a figure-level function with similar flexibility) or `histplot` (an axes-level function for histograms).\n",
            "  warnings.warn(msg, FutureWarning)\n"
          ],
          "name": "stderr"
        },
        {
          "output_type": "execute_result",
          "data": {
            "text/plain": [
              "(-50000.0, 600000.0)"
            ]
          },
          "metadata": {
            "tags": []
          },
          "execution_count": 40
        },
        {
          "output_type": "display_data",
          "data": {
            "image/png": "[encoded data removed]",
            "text/plain": [
              "<Figure size 432x288 with 1 Axes>"
            ]
          },
          "metadata": {
            "tags": [],
            "needs_background": "light"
          }
        }
      ]
    },
    {
      "cell_type": "markdown",
      "metadata": {
        "id": "SbESFsip8ymG"
      },
      "source": [
        "The vast majority of people have debt below about 50,000 RS\n",
        "\n",
        "DENSITY of people has inceased in 6 months "
      ]
    },
    {
      "cell_type": "code",
      "metadata": {
        "colab": {
          "base_uri": "https://localhost:8080/",
          "height": 295
        },
        "id": "SX5CJmQZ9eRT",
        "outputId": "cdd676b6-273f-438c-97f6-623e7d41720e"
      },
      "source": [
        "sns.countplot(x='PAY_2', hue = 'default payment next month' , data = data)\n",
        "plt.title('Defaults by payment status')\n",
        "plt.xlabel('Payment Status')\n",
        "L = plt.legend(title='Default')\n",
        "L.get_texts()[0].set_text('No')\n",
        "L.get_texts()[1].set_text('Yes')"
      ],
      "execution_count": 41,
      "outputs": [
        {
          "output_type": "display_data",
          "data": {
            "image/png": "[encoded data removed]",
            "text/plain": [
              "<Figure size 432x288 with 1 Axes>"
            ]
          },
          "metadata": {
            "tags": [],
            "needs_background": "light"
          }
        }
      ]
    },
    {
      "cell_type": "code",
      "metadata": {
        "id": "hUfPG6Opcm06"
      },
      "source": [
        "#TO find performance \n"
      ],
      "execution_count": null,
      "outputs": []
    },
    {
      "cell_type": "code",
      "metadata": {
        "id": "226bx7Ata2_5"
      },
      "source": [
        "from sklearn.linear_model import LinearRegression\n",
        "lr=LinearRegression()\n",
        "lr.fit(x_train,y_train)\n",
        "pred_train=lr.predict(x_train)\n"
      ],
      "execution_count": 21,
      "outputs": []
    },
    {
      "cell_type": "code",
      "metadata": {
        "colab": {
          "base_uri": "https://localhost:8080/"
        },
        "id": "OrPnAJdcbQcN",
        "outputId": "390d24e7-b717-41f6-c59f-90e5ecd07852"
      },
      "source": [
        "pred_train #print"
      ],
      "execution_count": 22,
      "outputs": [
        {
          "output_type": "execute_result",
          "data": {
            "text/plain": [
              "array([0.4749352 , 0.18018483, 0.23151337, ..., 0.72501295, 0.30287945,\n",
              "       0.27675703])"
            ]
          },
          "metadata": {
            "tags": []
          },
          "execution_count": 22
        }
      ]
    },
    {
      "cell_type": "code",
      "metadata": {
        "id": "Q7IL8aswd4vJ",
        "colab": {
          "base_uri": "https://localhost:8080/"
        },
        "outputId": "56327304-e4d6-4b71-f41c-9c474319baa8"
      },
      "source": [
        "from sklearn.metrics import mean_squared_error,r2_score\n",
        "print(\"MSE= \",mean_squared_error(y_train,pred_train))\n",
        "print(\"R2= \",r2_score(y_train,pred_train))"
      ],
      "execution_count": 23,
      "outputs": [
        {
          "output_type": "stream",
          "text": [
            "MSE=  0.15105286300254428\n",
            "R2=  0.12316496212385741\n"
          ],
          "name": "stdout"
        }
      ]
    },
    {
      "cell_type": "code",
      "metadata": {
        "colab": {
          "base_uri": "https://localhost:8080/"
        },
        "id": "I6DrJKMmbZiY",
        "outputId": "174039dd-8218-4edf-9e48-1a3c30f6638b"
      },
      "source": [
        "\n",
        "c=lr.intercept_\n",
        "m=lr.coef_\n",
        "print(\"SLOPE= \",m)\n",
        "print(\"INTERCEPT= \",c)\n"
      ],
      "execution_count": 24,
      "outputs": [
        {
          "output_type": "stream",
          "text": [
            "SLOPE=  [-1.47502907e-07 -7.06530720e-08 -1.53158712e-02 -1.85240366e-03\n",
            " -2.18344454e-02  1.20503890e-03  9.59263228e-02  1.99484715e-02\n",
            "  1.18637440e-02  7.48692454e-03 -6.48240118e-07  1.63915393e-07\n",
            "  2.13237315e-08  3.81656596e-08 -7.58186286e-07 -2.22403003e-07\n",
            " -3.56108531e-08 -2.08553668e-07 -2.65810300e-07 -1.29281010e-07]\n",
            "INTERCEPT=  0.2933661917508323\n"
          ],
          "name": "stdout"
        }
      ]
    },
    {
      "cell_type": "markdown",
      "metadata": {
        "id": "6Mg79y7QHL60"
      },
      "source": [
        ""
      ]
    },
    {
      "cell_type": "code",
      "metadata": {
        "id": "ZcyxvxgsSsLB"
      },
      "source": [
        "#print('y=%.fx + %.2fc'%(m,c))"
      ],
      "execution_count": null,
      "outputs": []
    },
    {
      "cell_type": "markdown",
      "metadata": {
        "id": "P3jJm2ssHBFK"
      },
      "source": [
        "## going to perform classification and feature scaling\n",
        "\n",
        "---\n",
        "\n",
        "\n",
        "\n",
        "---\n",
        "\n"
      ]
    },
    {
      "cell_type": "code",
      "metadata": {
        "colab": {
          "base_uri": "https://localhost:8080/"
        },
        "id": "dAIrYlqu-VIx",
        "outputId": "a2f21fc0-540f-4e5d-c9bc-91c4de12b42b"
      },
      "source": [
        "from sklearn.model_selection import train_test_split\n",
        "x_train,x_test,y_train,y_test=train_test_split(data.drop(['default payment next month'],axis=1),data['default payment next month'],\n",
        "                                               test_size=0.3,random_state=0)\n",
        "print(data.shape)\n",
        "print(x_train.shape)\n",
        "print(x_test.shape)"
      ],
      "execution_count": 42,
      "outputs": [
        {
          "output_type": "stream",
          "text": [
            "(30000, 25)\n",
            "(21000, 24)\n",
            "(9000, 24)\n"
          ],
          "name": "stdout"
        }
      ]
    },
    {
      "cell_type": "code",
      "metadata": {
        "id": "RPhqa0OM-o4w"
      },
      "source": [
        "from sklearn.preprocessing import StandardScaler # MInMaxScaler\n",
        "sc=StandardScaler()\n",
        "sc.fit(x_train)\n",
        "x_train_std=sc.transform(x_train)\n",
        "x_test_std=sc.transform(x_test)\n",
        "print(x_test_std)\n",
        "print(x_train_std)"
      ],
      "execution_count": null,
      "outputs": []
    },
    {
      "cell_type": "code",
      "metadata": {
        "colab": {
          "base_uri": "https://localhost:8080/"
        },
        "id": "_mkBQ3S0_Yk2",
        "outputId": "96dd9555-dfd4-4fc9-f219-bf823a8b8952"
      },
      "source": [
        "##### load classifier\n",
        "from sklearn.linear_model import Perceptron\n",
        "ppn=Perceptron()\n",
        "ppn.fit(x_train_std,y_train)\n",
        "y_pred_train=ppn.predict(x_train_std)\n",
        "y_pred_test=ppn.predict(x_test_std)\n",
        "train_acc=accuracy_score(y_train,y_pred_train)\n",
        "test_Acc=accuracy_score(y_test,y_pred_test)\n",
        "print(train_acc)\n",
        "print(test_Acc)"
      ],
      "execution_count": 51,
      "outputs": [
        {
          "output_type": "stream",
          "text": [
            "0.7043809523809523\n",
            "0.7064444444444444\n"
          ],
          "name": "stdout"
        }
      ]
    },
    {
      "cell_type": "markdown",
      "metadata": {
        "id": "dgk9APb6and6"
      },
      "source": [
        "ACCURACY is decent , but we need higher accuracy"
      ]
    },
    {
      "cell_type": "markdown",
      "metadata": {
        "id": "5jDA4OO2HXYu"
      },
      "source": [
        "# we are going to do -comparing some classifiers\n",
        "\n",
        "---\n",
        "\n",
        "\n",
        "\n",
        "---\n",
        "\n"
      ]
    },
    {
      "cell_type": "code",
      "metadata": {
        "id": "F-1EIiHbXHsW"
      },
      "source": [
        "\n",
        "from sklearn.linear_model import Perceptron\n",
        "from sklearn.linear_model import LogisticRegression\n",
        "from sklearn.svm import SVC\n",
        "from sklearn.neighbors import KNeighborsClassifier\n",
        "from sklearn.naive_bayes import GaussianNB\n",
        "from sklearn.tree import DecisionTreeClassifier\n",
        "from sklearn.ensemble import RandomForestClassifier\n",
        "clf1=Perceptron(eta0=1)\n",
        "clf2=LogisticRegression(penalty='l2',C=10)\n",
        "clf3=SVC(C=100,kernel='rbf') # kernel='linear'\n",
        "clf4=KNeighborsClassifier(n_neighbors=3) # 3-NN\n",
        "clf5=GaussianNB()\n",
        "clf6=DecisionTreeClassifier(max_depth=5)\n",
        "clf7=RandomForestClassifier(max_depth=5)\n"
      ],
      "execution_count": 53,
      "outputs": []
    },
    {
      "cell_type": "code",
      "metadata": {
        "colab": {
          "base_uri": "https://localhost:8080/"
        },
        "id": "QP4_w3YK9X-6",
        "outputId": "d395d578-2871-4959-c63c-0c237e514128"
      },
      "source": [
        "clf=[clf1,clf2,clf3,clf4,clf5,clf6,clf7]\n",
        "clf_names=['prec','Logistic Regression','SVM','K Nearest Neighbour','Gaussian NB','Decision Tree','Random Forest']\n",
        "test={}\n",
        "T={}\n",
        "import time\n",
        "for model,name in zip(clf,clf_names):\n",
        "  st=time.time()\n",
        "  model.fit(x_train_std,y_train)\n",
        "  y_pred=model.predict(x_test_std)\n",
        "  et=time.time()\n",
        "  acc=accuracy_score(y_test,y_pred)\n",
        "  test[name]=np.round(acc*100,decimals=1)\n",
        "  T[name]=np.round((et-st)*1000,decimals=1) # ms\n",
        "print(test)\n",
        "print(T)"
      ],
      "execution_count": 57,
      "outputs": [
        {
          "output_type": "stream",
          "text": [
            "{'prec': 70.6, 'Logistic Regression': 81.7, 'SVM': 80.3, 'K Nearest Neighbour': 77.4, 'Gaussian NB': 58.9, 'Decision Tree': 82.4, 'Random Forest': 81.8}\n",
            "{'prec': 27.8, 'Logistic Regression': 182.3, 'SVM': 140210.7, 'K Nearest Neighbour': 7476.9, 'Gaussian NB': 9.9, 'Decision Tree': 215.5, 'Random Forest': 2775.4}\n"
          ],
          "name": "stdout"
        }
      ]
    },
    {
      "cell_type": "markdown",
      "metadata": {
        "id": "g--l47lHEpm1"
      },
      "source": [
        "# DECISION TREE CLASSIFIES is throwing the highest Accuracy among other classifiers \n"
      ]
    },
    {
      "cell_type": "code",
      "metadata": {
        "id": "8F-ruOU2Hytd"
      },
      "source": [
        "from sklearn.tree import DecisionTreeClassifier\n",
        "from sklearn.tree import RandomForestClassifier"
      ],
      "execution_count": 59,
      "outputs": []
    },
    {
      "cell_type": "code",
      "metadata": {
        "colab": {
          "base_uri": "https://localhost:8080/"
        },
        "id": "VguD9QRIH-JL",
        "outputId": "fc6cae1c-fc12-4c27-eefe-fe97b965b236"
      },
      "source": [
        "dt=DecisionTreeClassifier(max_depth=3)\n",
        "dt.fit(x_train_std,y_train)"
      ],
      "execution_count": 63,
      "outputs": [
        {
          "output_type": "execute_result",
          "data": {
            "text/plain": [
              "DecisionTreeClassifier(ccp_alpha=0.0, class_weight=None, criterion='gini',\n",
              "                       max_depth=3, max_features=None, max_leaf_nodes=None,\n",
              "                       min_impurity_decrease=0.0, min_impurity_split=None,\n",
              "                       min_samples_leaf=1, min_samples_split=2,\n",
              "                       min_weight_fraction_leaf=0.0, presort='deprecated',\n",
              "                       random_state=None, splitter='best')"
            ]
          },
          "metadata": {
            "tags": []
          },
          "execution_count": 63
        }
      ]
    },
    {
      "cell_type": "code",
      "metadata": {
        "colab": {
          "base_uri": "https://localhost:8080/"
        },
        "id": "DBhQ7NIBIotU",
        "outputId": "635a1cff-f2fa-42d9-acb0-5a0b1e918192"
      },
      "source": [
        "dt_pred=dt.predict(x_test_std)\n",
        "acc=accuracy_score(dt_pred,y_test)\n",
        "print(acc)"
      ],
      "execution_count": 64,
      "outputs": [
        {
          "output_type": "stream",
          "text": [
            "0.8244444444444444\n"
          ],
          "name": "stdout"
        }
      ]
    },
    {
      "cell_type": "markdown",
      "metadata": {
        "id": "qSDwM_CgKLLF"
      },
      "source": [
        "# performing RANDOM FOREST CLASSIFIER AS PROOF"
      ]
    },
    {
      "cell_type": "code",
      "metadata": {
        "colab": {
          "base_uri": "https://localhost:8080/"
        },
        "id": "5kJxd4oTJWZ8",
        "outputId": "554e48ca-d0a4-4c8b-927f-c5ccc1c8b2e0"
      },
      "source": [
        "rf=RandomForestClassifier(max_depth=3)\n",
        "rf.fit(x_train_std,y_train)\n",
        "rf_pred=rf.predict(x_test_std)\n",
        "acc2=accuracy_score(rf_pred,y_test)\n",
        "print(acc2)"
      ],
      "execution_count": 65,
      "outputs": [
        {
          "output_type": "stream",
          "text": [
            "0.8112222222222222\n"
          ],
          "name": "stdout"
        }
      ]
    },
    {
      "cell_type": "markdown",
      "metadata": {
        "id": "6ax7orqVKKT0"
      },
      "source": [
        "# Clearly DECISION TREE CLASSIFIRE wins over RANDOM FOREST CLASSIFIER"
      ]
    },
    {
      "cell_type": "code",
      "metadata": {
        "colab": {
          "base_uri": "https://localhost:8080/"
        },
        "id": "JGfEuOQ5Y06u",
        "outputId": "5d70dcc3-1afe-48cd-ac88-7efb1ba8d95f"
      },
      "source": [
        "from sklearn.metrics import classification_report\n",
        "cr=classification_report(y_test,y_pred_test)\n",
        "print(cr)"
      ],
      "execution_count": 74,
      "outputs": [
        {
          "output_type": "stream",
          "text": [
            "              precision    recall  f1-score   support\n",
            "\n",
            "           0       0.84      0.77      0.80      7060\n",
            "           1       0.36      0.47      0.41      1940\n",
            "\n",
            "    accuracy                           0.71      9000\n",
            "   macro avg       0.60      0.62      0.61      9000\n",
            "weighted avg       0.74      0.71      0.72      9000\n",
            "\n"
          ],
          "name": "stdout"
        }
      ]
    },
    {
      "cell_type": "code",
      "metadata": {
        "colab": {
          "base_uri": "https://localhost:8080/"
        },
        "id": "ifs9EhtLZEAR",
        "outputId": "0c73832c-8dd7-4386-e5bb-c340babdfde2"
      },
      "source": [
        "from sklearn.metrics import confusion_matrix\n",
        "cm=confusion_matrix(y_test,y_pred_test)\n",
        "print(cm)"
      ],
      "execution_count": 70,
      "outputs": [
        {
          "output_type": "stream",
          "text": [
            "[[5439 1621]\n",
            " [1021  919]]\n"
          ],
          "name": "stdout"
        }
      ]
    },
    {
      "cell_type": "code",
      "metadata": {
        "colab": {
          "base_uri": "https://localhost:8080/",
          "height": 296
        },
        "id": "0WRIykkvYHeA",
        "outputId": "1c0ddbd9-1973-4ab1-fdee-9ad7089f9196"
      },
      "source": [
        "from sklearn.metrics import plot_confusion_matrix\n",
        "plot_confusion_matrix(clf6,x_test_std,y_test)"
      ],
      "execution_count": 72,
      "outputs": [
        {
          "output_type": "execute_result",
          "data": {
            "text/plain": [
              "<sklearn.metrics._plot.confusion_matrix.ConfusionMatrixDisplay at 0x7f73dd266cd0>"
            ]
          },
          "metadata": {
            "tags": []
          },
          "execution_count": 72
        },
        {
          "output_type": "display_data",
          "data": {
            "image/png": "[encoded data removed]",
            "text/plain": [
              "<Figure size 432x288 with 2 Axes>"
            ]
          },
          "metadata": {
            "tags": [],
            "needs_background": "light"
          }
        }
      ]
    }
  ]
}