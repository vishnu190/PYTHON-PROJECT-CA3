{
  "nbformat": 4,
  "nbformat_minor": 0,
  "metadata": {
    "colab": {
      "name": "project.ipynb",
      "provenance": [],
      "collapsed_sections": [],
      "authorship_tag": "ABX9TyMW34qRHwg/SKViqTPy2P16",
      "include_colab_link": true
    },
    "kernelspec": {
      "name": "python3",
      "display_name": "Python 3"
    },
    "language_info": {
      "name": "python"
    }
  },
  "cells": [
    {
      "cell_type": "markdown",
      "metadata": {
        "id": "view-in-github",
        "colab_type": "text"
      },
      "source": [
        "<a href=\"https://colab.research.google.com/github/vishnu190/PYTHON-PROJECT-CA3/blob/main/project.ipynb\" target=\"_parent\"><img src=\"https://colab.research.google.com/assets/colab-badge.svg\" alt=\"Open In Colab\"/></a>"
      ]
    },
    {
      "cell_type": "code",
      "metadata": {
        "id": "QdhFQiAR8ith"
      },
      "source": [
        "import pandas as pd\n",
        "import numpy as np\n",
        "import seaborn as sns\n",
        "import matplotlib as plt"
      ],
      "execution_count": null,
      "outputs": []
    },
    {
      "cell_type": "code",
      "metadata": {
        "id": "setmeaR68qFR"
      },
      "source": [
        "from google.colab import drive"
      ],
      "execution_count": null,
      "outputs": []
    },
    {
      "cell_type": "code",
      "metadata": {
        "colab": {
          "base_uri": "https://localhost:8080/"
        },
        "id": "czSgyWtV85B-",
        "outputId": "ae91311c-037d-402d-9194-df9de3d610c5"
      },
      "source": [
        "drive.mount('/content/drive')"
      ],
      "execution_count": null,
      "outputs": [
        {
          "output_type": "stream",
          "text": [
            "Mounted at /content/drive\n"
          ],
          "name": "stdout"
        }
      ]
    },
    {
      "cell_type": "code",
      "metadata": {
        "colab": {
          "base_uri": "https://localhost:8080/"
        },
        "id": "WCb0NTzK9PcT",
        "outputId": "66669534-beb1-452b-8cc1-27f3d0917e99"
      },
      "source": [
        "data=pd.read_csv('/content/drive/MyDrive/project.csv')\n",
        "print(data.shape)\n",
        "print(data.head)\n",
        "print(data.columns)\n"
      ],
      "execution_count": null,
      "outputs": [
        {
          "output_type": "stream",
          "text": [
            "(30000, 25)\n",
            "<bound method NDFrame.head of           ID  LIMIT_BAL  SEX  ...  PAY_AMT5  PAY_AMT6  default payment next month\n",
            "0          1      20000    2  ...         0         0                           1\n",
            "1          2     120000    2  ...         0      2000                           1\n",
            "2          3      90000    2  ...      1000      5000                           0\n",
            "3          4      50000    2  ...      1069      1000                           0\n",
            "4          5      50000    1  ...       689       679                           0\n",
            "...      ...        ...  ...  ...       ...       ...                         ...\n",
            "29995  29996     220000    1  ...      5000      1000                           0\n",
            "29996  29997     150000    1  ...         0         0                           0\n",
            "29997  29998      30000    1  ...      2000      3100                           1\n",
            "29998  29999      80000    1  ...     52964      1804                           1\n",
            "29999  30000      50000    1  ...      1000      1000                           1\n",
            "\n",
            "[30000 rows x 25 columns]>\n",
            "Index(['ID', 'LIMIT_BAL', 'SEX', 'EDUCATION', 'MARRIAGE', 'AGE', 'PAY_0',\n",
            "       'PAY_2', 'PAY_3', 'PAY_4', 'PAY_5', 'PAY_6', 'BILL_AMT1', 'BILL_AMT2',\n",
            "       'BILL_AMT3', 'BILL_AMT4', 'BILL_AMT5', 'BILL_AMT6', 'PAY_AMT1',\n",
            "       'PAY_AMT2', 'PAY_AMT3', 'PAY_AMT4', 'PAY_AMT5', 'PAY_AMT6',\n",
            "       'default payment next month'],\n",
            "      dtype='object')\n"
          ],
          "name": "stdout"
        }
      ]
    },
    {
      "cell_type": "code",
      "metadata": {
        "id": "bU6VSIOO-iUG",
        "colab": {
          "base_uri": "https://localhost:8080/"
        },
        "outputId": "2a968d81-d610-40c0-985d-197dafcf3e77"
      },
      "source": [
        "data.info()"
      ],
      "execution_count": null,
      "outputs": [
        {
          "output_type": "stream",
          "text": [
            "<class 'pandas.core.frame.DataFrame'>\n",
            "RangeIndex: 30000 entries, 0 to 29999\n",
            "Data columns (total 25 columns):\n",
            " #   Column                      Non-Null Count  Dtype\n",
            "---  ------                      --------------  -----\n",
            " 0   ID                          30000 non-null  int64\n",
            " 1   LIMIT_BAL                   30000 non-null  int64\n",
            " 2   SEX                         30000 non-null  int64\n",
            " 3   EDUCATION                   30000 non-null  int64\n",
            " 4   MARRIAGE                    30000 non-null  int64\n",
            " 5   AGE                         30000 non-null  int64\n",
            " 6   PAY_0                       30000 non-null  int64\n",
            " 7   PAY_2                       30000 non-null  int64\n",
            " 8   PAY_3                       30000 non-null  int64\n",
            " 9   PAY_4                       30000 non-null  int64\n",
            " 10  PAY_5                       30000 non-null  int64\n",
            " 11  PAY_6                       30000 non-null  int64\n",
            " 12  BILL_AMT1                   30000 non-null  int64\n",
            " 13  BILL_AMT2                   30000 non-null  int64\n",
            " 14  BILL_AMT3                   30000 non-null  int64\n",
            " 15  BILL_AMT4                   30000 non-null  int64\n",
            " 16  BILL_AMT5                   30000 non-null  int64\n",
            " 17  BILL_AMT6                   30000 non-null  int64\n",
            " 18  PAY_AMT1                    30000 non-null  int64\n",
            " 19  PAY_AMT2                    30000 non-null  int64\n",
            " 20  PAY_AMT3                    30000 non-null  int64\n",
            " 21  PAY_AMT4                    30000 non-null  int64\n",
            " 22  PAY_AMT5                    30000 non-null  int64\n",
            " 23  PAY_AMT6                    30000 non-null  int64\n",
            " 24  default payment next month  30000 non-null  int64\n",
            "dtypes: int64(25)\n",
            "memory usage: 5.7 MB\n"
          ],
          "name": "stdout"
        }
      ]
    },
    {
      "cell_type": "code",
      "metadata": {
        "id": "y20SZMXoAjT-",
        "colab": {
          "base_uri": "https://localhost:8080/"
        },
        "outputId": "da4081d8-faca-48e9-b65b-e5f1a7163215"
      },
      "source": [
        "print(data.isna().sum())"
      ],
      "execution_count": null,
      "outputs": [
        {
          "output_type": "stream",
          "text": [
            "ID                            0\n",
            "LIMIT_BAL                     0\n",
            "SEX                           0\n",
            "EDUCATION                     0\n",
            "MARRIAGE                      0\n",
            "AGE                           0\n",
            "PAY_0                         0\n",
            "PAY_2                         0\n",
            "PAY_3                         0\n",
            "PAY_4                         0\n",
            "PAY_5                         0\n",
            "PAY_6                         0\n",
            "BILL_AMT1                     0\n",
            "BILL_AMT2                     0\n",
            "BILL_AMT3                     0\n",
            "BILL_AMT4                     0\n",
            "BILL_AMT5                     0\n",
            "BILL_AMT6                     0\n",
            "PAY_AMT1                      0\n",
            "PAY_AMT2                      0\n",
            "PAY_AMT3                      0\n",
            "PAY_AMT4                      0\n",
            "PAY_AMT5                      0\n",
            "PAY_AMT6                      0\n",
            "default payment next month    0\n",
            "dtype: int64\n"
          ],
          "name": "stdout"
        }
      ]
    },
    {
      "cell_type": "code",
      "metadata": {
        "colab": {
          "base_uri": "https://localhost:8080/"
        },
        "id": "1Ed-ayOuNvp_",
        "outputId": "d648bbe8-d9c8-4ad0-c014-bcec94cbf6d0"
      },
      "source": [
        "data['EDUCATION'].unique()"
      ],
      "execution_count": null,
      "outputs": [
        {
          "output_type": "execute_result",
          "data": {
            "text/plain": [
              "array([2, 1, 3, 5, 4, 6, 0])"
            ]
          },
          "metadata": {
            "tags": []
          },
          "execution_count": 7
        }
      ]
    },
    {
      "cell_type": "code",
      "metadata": {
        "colab": {
          "base_uri": "https://localhost:8080/"
        },
        "id": "OI-2nPXCOQXX",
        "outputId": "1a4cfdbb-a13a-4791-f136-7f092b6f4f6d"
      },
      "source": [
        "# Change values 4, 5, 6 to 0 and define 0 as 'others'\n",
        "# 1=graduate school, 2=university, 3=high school, 0=others\n",
        "\n",
        "data[\"EDUCATION\"] = data[\"EDUCATION\"].replace({4:0,5:0,6:0})\n",
        "data[\"EDUCATION\"].value_counts()"
      ],
      "execution_count": null,
      "outputs": [
        {
          "output_type": "execute_result",
          "data": {
            "text/plain": [
              "2    14030\n",
              "1    10585\n",
              "3     4917\n",
              "0      468\n",
              "Name: EDUCATION, dtype: int64"
            ]
          },
          "metadata": {
            "tags": []
          },
          "execution_count": 8
        }
      ]
    },
    {
      "cell_type": "code",
      "metadata": {
        "id": "csaY8MsEPNY2",
        "colab": {
          "base_uri": "https://localhost:8080/"
        },
        "outputId": "f62e4f74-a103-4a7f-c00a-a193b358c7c8"
      },
      "source": [
        "data[\"MARRIAGE\"].unique()"
      ],
      "execution_count": null,
      "outputs": [
        {
          "output_type": "execute_result",
          "data": {
            "text/plain": [
              "array([1, 2, 3, 0])"
            ]
          },
          "metadata": {
            "tags": []
          },
          "execution_count": 9
        }
      ]
    },
    {
      "cell_type": "code",
      "metadata": {
        "id": "NOW6vMx7OqBW"
      },
      "source": [
        "x_train=data[['ID', 'LIMIT_BAL', 'SEX', 'EDUCATION', 'MARRIAGE', 'AGE','PAY_0',\n",
        "       'PAY_2', 'PAY_3', 'PAY_4','BILL_AMT1', 'BILL_AMT2',\n",
        "       'BILL_AMT3', 'BILL_AMT4', 'PAY_AMT1',\n",
        "       'PAY_AMT2', 'PAY_AMT3', 'PAY_AMT4', 'PAY_AMT5', 'PAY_AMT6']]\n",
        "y_train=data['default payment next month']"
      ],
      "execution_count": null,
      "outputs": []
    },
    {
      "cell_type": "code",
      "metadata": {
        "id": "WWEP76aJOz0d",
        "colab": {
          "base_uri": "https://localhost:8080/"
        },
        "outputId": "b7e6f681-abc7-4e16-9180-3e17574a3540"
      },
      "source": [
        "print(y_train.head)\n",
        "y_train.describe()"
      ],
      "execution_count": null,
      "outputs": [
        {
          "output_type": "stream",
          "text": [
            "<bound method NDFrame.head of 0        1\n",
            "1        1\n",
            "2        0\n",
            "3        0\n",
            "4        0\n",
            "        ..\n",
            "29995    0\n",
            "29996    0\n",
            "29997    1\n",
            "29998    1\n",
            "29999    1\n",
            "Name: default payment next month, Length: 30000, dtype: int64>\n"
          ],
          "name": "stdout"
        },
        {
          "output_type": "execute_result",
          "data": {
            "text/plain": [
              "count    30000.000000\n",
              "mean         0.221200\n",
              "std          0.415062\n",
              "min          0.000000\n",
              "25%          0.000000\n",
              "50%          0.000000\n",
              "75%          0.000000\n",
              "max          1.000000\n",
              "Name: default payment next month, dtype: float64"
            ]
          },
          "metadata": {
            "tags": []
          },
          "execution_count": 11
        }
      ]
    },
    {
      "cell_type": "code",
      "metadata": {
        "id": "vieUwXA9ZFSC"
      },
      "source": [
        "df=pd.concat([x_train[['AGE','LIMIT_BAL', 'SEX', 'EDUCATION', 'MARRIAGE',]],y_train],axis=1)\n"
      ],
      "execution_count": null,
      "outputs": []
    },
    {
      "cell_type": "code",
      "metadata": {
        "colab": {
          "base_uri": "https://localhost:8080/",
          "height": 403
        },
        "id": "5qjVadexR4yj",
        "outputId": "7f17c43f-6a83-4818-f751-be2c4800fe3e"
      },
      "source": [
        "  # PERFORMING CO-RELATIONAL ANALYSIS\n",
        "col=df.corr()\n",
        "\n",
        "sns.heatmap(col,annot=True,cmap='jet',fmt='.2f',annot_kws={'size':4},\n",
        "            cbar=True)\n",
        "mask = np.zeros_like(col,dtype=np.bool)\n",
        "\n",
        "cmap = sns.diverging_palette(220,10,as_cmap=True)\n",
        "\n",
        "\n",
        "\n",
        "#i selected some of the features while creating a HEATMAP ,so that it would be clear"
      ],
      "execution_count": 41,
      "outputs": [
        {
          "output_type": "display_data",
          "data": {
            "image/png": "[encoded data removed]",
            "text/plain": [
              "<Figure size 432x288 with 2 Axes>"
            ]
          },
          "metadata": {
            "tags": [],
            "needs_background": "light"
          }
        }
      ]
    },
    {
      "cell_type": "code",
      "metadata": {
        "id": "hUfPG6Opcm06"
      },
      "source": [
        "#TO find performance \n"
      ],
      "execution_count": null,
      "outputs": []
    },
    {
      "cell_type": "code",
      "metadata": {
        "id": "226bx7Ata2_5"
      },
      "source": [
        "from sklearn.linear_model import LinearRegression\n",
        "lr=LinearRegression()\n",
        "lr.fit(x_train,y_train)\n",
        "pred_train=lr.predict(x_train)\n"
      ],
      "execution_count": 44,
      "outputs": []
    },
    {
      "cell_type": "code",
      "metadata": {
        "colab": {
          "base_uri": "https://localhost:8080/"
        },
        "id": "OrPnAJdcbQcN",
        "outputId": "efdc206d-2440-45c4-9668-92a8a1f75610"
      },
      "source": [
        "pred_train #print"
      ],
      "execution_count": 45,
      "outputs": [
        {
          "output_type": "execute_result",
          "data": {
            "text/plain": [
              "array([-0.02419673,  0.42575665, -0.05850514, ...,  0.24745391,\n",
              "        0.23809502,  0.2293908 ])"
            ]
          },
          "metadata": {
            "tags": []
          },
          "execution_count": 45
        }
      ]
    },
    {
      "cell_type": "code",
      "metadata": {
        "id": "Q7IL8aswd4vJ",
        "colab": {
          "base_uri": "https://localhost:8080/"
        },
        "outputId": "1f78b123-9fb9-4cb1-9f9e-5a039bcc1772"
      },
      "source": [
        "from sklearn.metrics import mean_squared_error,r2_score\n",
        "print(\"MSE= \",mean_squared_error(y_train,pred_train))\n",
        "print(\"R2= \",r2_score(y_train,pred_train))"
      ],
      "execution_count": 47,
      "outputs": [
        {
          "output_type": "stream",
          "text": [
            "MSE=  0.1523629227516607\n",
            "R2=  0.12240199030543863\n"
          ],
          "name": "stdout"
        }
      ]
    },
    {
      "cell_type": "code",
      "metadata": {
        "colab": {
          "base_uri": "https://localhost:8080/"
        },
        "id": "I6DrJKMmbZiY",
        "outputId": "4a8a5109-ccfe-4930-c242-61e0d9b7f690"
      },
      "source": [
        "\n",
        "c=lr.intercept_\n",
        "m=lr.coef_\n",
        "print(\"SLOPE= \",m)\n",
        "print(\"INTERCEPT= \",c)\n"
      ],
      "execution_count": 48,
      "outputs": [
        {
          "output_type": "stream",
          "text": [
            "SLOPE=  [-1.46202753e-08 -6.52157331e-08 -1.91874639e-02 -6.74491706e-03\n",
            " -2.47523937e-02  1.22643348e-03  8.81720650e-02  2.35745692e-02\n",
            "  1.17873212e-02  1.12408841e-04  5.28247450e-03  7.77703944e-03\n",
            " -7.04007259e-07  1.28140381e-07  5.47403248e-08  1.65497727e-08\n",
            " -1.02613524e-07  2.02373546e-07 -7.86037830e-07 -1.34074628e-07\n",
            " -2.50187611e-07 -2.52999268e-07 -4.09660567e-07 -1.44994935e-07]\n",
            "INTERCEPT=  0.3147544543442408\n"
          ],
          "name": "stdout"
        }
      ]
    },
    {
      "cell_type": "code",
      "metadata": {
        "id": "ZcyxvxgsSsLB"
      },
      "source": [
        "#print('y=%.fx + %.2fc'%(m,c))"
      ],
      "execution_count": null,
      "outputs": []
    },
    {
      "cell_type": "code",
      "metadata": {
        "id": "etbxmT87eazb",
        "colab": {
          "base_uri": "https://localhost:8080/",
          "height": 282
        },
        "outputId": "12ac72dc-4f40-4cd5-8bae-86884cb10838"
      },
      "source": [
        "import matplotlib.pyplot as plt\n",
        "plt.scatter(x_train['LIMIT_BAL'],pred_train,label='REGRESSION SCALE',c='y',lw=2)\n",
        "plt.legend()"
      ],
      "execution_count": 49,
      "outputs": [
        {
          "output_type": "execute_result",
          "data": {
            "text/plain": [
              "<matplotlib.legend.Legend at 0x7f17f0f2fad0>"
            ]
          },
          "metadata": {
            "tags": []
          },
          "execution_count": 49
        },
        {
          "output_type": "display_data",
          "data": {
            "image/png": "[encoded data removed]",
            "text/plain": [
              "<Figure size 432x288 with 1 Axes>"
            ]
          },
          "metadata": {
            "tags": [],
            "needs_background": "light"
          }
        }
      ]
    },
    {
      "cell_type": "code",
      "metadata": {
        "id": "rPlgi9VcpmIJ",
        "colab": {
          "base_uri": "https://localhost:8080/"
        },
        "outputId": "9e9a32b1-b493-4695-aafb-7220d0f52cf0"
      },
      "source": [
        "from sklearn.linear_model import ElasticNet\n",
        "lr=ElasticNet()\n",
        "lr.fit(x_train,y_train)\n",
        "pred_train=lr.predict(x_train)\n",
        "print(pred_train)\n",
        "print('TRain MSE=',mean_squared_error(y_train,lr.predict(x_train)))\n",
        "print('R2 train=',r2_score(y_train,lr.predict(x_train)))\n"
      ],
      "execution_count": 50,
      "outputs": [
        {
          "output_type": "stream",
          "text": [
            "[0.28764733 0.22144499 0.02877441 ... 0.24020558 0.27318772 0.25172803]\n",
            "TRain MSE= 0.16810098783270694\n",
            "R2 train= 0.03175201889420731\n"
          ],
          "name": "stdout"
        }
      ]
    },
    {
      "cell_type": "code",
      "metadata": {
        "id": "7hsbbzCnqV7s",
        "colab": {
          "base_uri": "https://localhost:8080/"
        },
        "outputId": "3ca23db8-6eb1-4280-84e8-f5a72db8095d"
      },
      "source": [
        "from sklearn.linear_model import Lasso\n",
        "lr=Lasso()\n",
        "lr.fit(x_train,y_train)\n",
        "pred_train=lr.predict(x_train)\n",
        "print(pred_train)\n",
        "print('TRain MSE=',mean_squared_error(y_train,lr.predict(x_train)))\n",
        "print('R2 train=',r2_score(y_train,lr.predict(x_train)))"
      ],
      "execution_count": 52,
      "outputs": [
        {
          "output_type": "stream",
          "text": [
            "[0.28764778 0.22137693 0.02880424 ... 0.24017142 0.27315388 0.25162093]\n",
            "TRain MSE= 0.16810101829820526\n",
            "R2 train= 0.0317518434154217\n"
          ],
          "name": "stdout"
        }
      ]
    },
    {
      "cell_type": "code",
      "metadata": {
        "id": "XcVrMDHpp8Op",
        "colab": {
          "base_uri": "https://localhost:8080/"
        },
        "outputId": "82e8a5a6-9a88-432a-ed95-82a6055cccd9"
      },
      "source": [
        "from sklearn.linear_model import Ridge\n",
        "lr=Ridge()\n",
        "lr.fit(x_train,y_train)\n",
        "pred_train=lr.predict(x_train)\n",
        "print(pred_train)\n",
        "print('TRain MSE=',mean_squared_error(y_train,lr.predict(x_train)))\n",
        "print('R2 train=',r2_score(y_train,lr.predict(x_train)))"
      ],
      "execution_count": 53,
      "outputs": [
        {
          "output_type": "stream",
          "text": [
            "[-0.02418753  0.42574873 -0.05849939 ...  0.24745543  0.23809491\n",
            "  0.22939326]\n",
            "TRain MSE= 0.15236292278347657\n",
            "R2 train= 0.12240199012218178\n"
          ],
          "name": "stdout"
        }
      ]
    },
    {
      "cell_type": "markdown",
      "metadata": {
        "id": "r2CquNWyqOKI"
      },
      "source": [
        "CLEARLY RIDGE IS SHOWING BETTER PERFORMANCE THAN ELASTIC NET AND LASSO\n"
      ]
    },
    {
      "cell_type": "code",
      "metadata": {
        "id": "ouXugtwTrFfH",
        "colab": {
          "base_uri": "https://localhost:8080/"
        },
        "outputId": "11d30652-3361-498d-fbb4-eb073def13ca"
      },
      "source": [
        "# TERY ANOTHER MODEL\n",
        "####### load a model\n",
        "from sklearn.tree import DecisionTreeRegressor\n",
        "lr=DecisionTreeRegressor(max_depth=3)\n",
        "lr.fit(x_train,y_train)\n",
        "pred_train=lr.predict(x_train)\n",
        "print(pred_train)\n",
        "print('TRain MSE=',mean_squared_error(y_train,lr.predict(x_train)))\n",
        "print('R2 train=',r2_score(y_train,lr.predict(x_train)))"
      ],
      "execution_count": 54,
      "outputs": [
        {
          "output_type": "stream",
          "text": [
            "[0.20261954 0.37639966 0.10914809 ... 0.10914809 0.10914809 0.10914809]\n",
            "TRain MSE= 0.1389166743337437\n",
            "R2 train= 0.19985128463708057\n"
          ],
          "name": "stdout"
        }
      ]
    },
    {
      "cell_type": "markdown",
      "metadata": {
        "id": "F3EcJd7mrbN1"
      },
      "source": [
        "CLEARLY DECISION TREE IS SHOWING BETTER PERFORMANCE THAN ELASTIC NET\n"
      ]
    },
    {
      "cell_type": "code",
      "metadata": {
        "id": "z2e4fWVCrf3F",
        "colab": {
          "base_uri": "https://localhost:8080/"
        },
        "outputId": "d33a2456-7653-4ec9-81f1-5360a10f56ce"
      },
      "source": [
        "#Try another model\n",
        "from sklearn.ensemble import RandomForestRegressor\n",
        "lr=RandomForestRegressor(max_depth=3)\n",
        "lr.fit(x_train,y_train)\n",
        "pred_train=lr.predict(x_train)\n",
        "print(pred_train)\n",
        "print('TRain MSE=',mean_squared_error(y_train,lr.predict(x_train)))\n",
        "print('R2 train=',r2_score(y_train,lr.predict(x_train)))"
      ],
      "execution_count": 55,
      "outputs": [
        {
          "output_type": "stream",
          "text": [
            "[0.20573558 0.3820244  0.10998469 ... 0.11011605 0.12979966 0.11352298]\n",
            "TRain MSE= 0.1380705719488038\n",
            "R2 train= 0.2047247653738039\n"
          ],
          "name": "stdout"
        }
      ]
    },
    {
      "cell_type": "code",
      "metadata": {
        "id": "F-1EIiHbXHsW"
      },
      "source": [
        ""
      ],
      "execution_count": null,
      "outputs": []
    }
  ]
}