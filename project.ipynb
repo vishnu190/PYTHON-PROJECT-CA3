{
  "nbformat": 4,
  "nbformat_minor": 0,
  "metadata": {
    "colab": {
      "name": "project.ipynb",
      "provenance": [],
      "authorship_tag": "ABX9TyNvPKH11EBpnaSXEWw7jVoP",
      "include_colab_link": true
    },
    "kernelspec": {
      "name": "python3",
      "display_name": "Python 3"
    },
    "language_info": {
      "name": "python"
    }
  },
  "cells": [
    {
      "cell_type": "markdown",
      "metadata": {
        "id": "view-in-github",
        "colab_type": "text"
      },
      "source": [
        "<a href=\"https://colab.research.google.com/github/vishnu190/PYTHON-PROJECT-CA3/blob/main/project.ipynb\" target=\"_parent\"><img src=\"https://colab.research.google.com/assets/colab-badge.svg\" alt=\"Open In Colab\"/></a>"
      ]
    },
    {
      "cell_type": "code",
      "metadata": {
        "id": "QdhFQiAR8ith"
      },
      "source": [
        "import pandas as pd\n",
        "import numpy as np\n",
        "import seaborn as sns\n",
        "import matplotlib as plt"
      ],
      "execution_count": 13,
      "outputs": []
    },
    {
      "cell_type": "code",
      "metadata": {
        "id": "setmeaR68qFR"
      },
      "source": [
        "from google.colab import drive"
      ],
      "execution_count": 3,
      "outputs": []
    },
    {
      "cell_type": "code",
      "metadata": {
        "colab": {
          "base_uri": "https://localhost:8080/"
        },
        "id": "czSgyWtV85B-",
        "outputId": "0a541330-eddb-4beb-a1b4-9afa1b85a003"
      },
      "source": [
        "drive.mount('/content/drive')"
      ],
      "execution_count": 4,
      "outputs": [
        {
          "output_type": "stream",
          "text": [
            "Mounted at /content/drive\n"
          ],
          "name": "stdout"
        }
      ]
    },
    {
      "cell_type": "code",
      "metadata": {
        "colab": {
          "base_uri": "https://localhost:8080/"
        },
        "id": "WCb0NTzK9PcT",
        "outputId": "cd834e00-95b9-4696-df02-5c0b3a88cee1"
      },
      "source": [
        "data=pd.read_csv('/content/drive/MyDrive/project.csv')\n",
        "print(data.shape)\n",
        "print(data.head)\n",
        "print(data.columns)\n"
      ],
      "execution_count": 5,
      "outputs": [
        {
          "output_type": "stream",
          "text": [
            "(30000, 25)\n",
            "<bound method NDFrame.head of           ID  LIMIT_BAL  SEX  ...  PAY_AMT5  PAY_AMT6  default payment next month\n",
            "0          1      20000    2  ...         0         0                           1\n",
            "1          2     120000    2  ...         0      2000                           1\n",
            "2          3      90000    2  ...      1000      5000                           0\n",
            "3          4      50000    2  ...      1069      1000                           0\n",
            "4          5      50000    1  ...       689       679                           0\n",
            "...      ...        ...  ...  ...       ...       ...                         ...\n",
            "29995  29996     220000    1  ...      5000      1000                           0\n",
            "29996  29997     150000    1  ...         0         0                           0\n",
            "29997  29998      30000    1  ...      2000      3100                           1\n",
            "29998  29999      80000    1  ...     52964      1804                           1\n",
            "29999  30000      50000    1  ...      1000      1000                           1\n",
            "\n",
            "[30000 rows x 25 columns]>\n",
            "Index(['ID', 'LIMIT_BAL', 'SEX', 'EDUCATION', 'MARRIAGE', 'AGE', 'PAY_0',\n",
            "       'PAY_2', 'PAY_3', 'PAY_4', 'PAY_5', 'PAY_6', 'BILL_AMT1', 'BILL_AMT2',\n",
            "       'BILL_AMT3', 'BILL_AMT4', 'BILL_AMT5', 'BILL_AMT6', 'PAY_AMT1',\n",
            "       'PAY_AMT2', 'PAY_AMT3', 'PAY_AMT4', 'PAY_AMT5', 'PAY_AMT6',\n",
            "       'default payment next month'],\n",
            "      dtype='object')\n"
          ],
          "name": "stdout"
        }
      ]
    },
    {
      "cell_type": "code",
      "metadata": {
        "id": "bU6VSIOO-iUG",
        "colab": {
          "base_uri": "https://localhost:8080/"
        },
        "outputId": "7ee33420-b8da-47a3-bab6-b77a937b3c49"
      },
      "source": [
        "data.info()"
      ],
      "execution_count": 6,
      "outputs": [
        {
          "output_type": "stream",
          "text": [
            "<class 'pandas.core.frame.DataFrame'>\n",
            "RangeIndex: 30000 entries, 0 to 29999\n",
            "Data columns (total 25 columns):\n",
            " #   Column                      Non-Null Count  Dtype\n",
            "---  ------                      --------------  -----\n",
            " 0   ID                          30000 non-null  int64\n",
            " 1   LIMIT_BAL                   30000 non-null  int64\n",
            " 2   SEX                         30000 non-null  int64\n",
            " 3   EDUCATION                   30000 non-null  int64\n",
            " 4   MARRIAGE                    30000 non-null  int64\n",
            " 5   AGE                         30000 non-null  int64\n",
            " 6   PAY_0                       30000 non-null  int64\n",
            " 7   PAY_2                       30000 non-null  int64\n",
            " 8   PAY_3                       30000 non-null  int64\n",
            " 9   PAY_4                       30000 non-null  int64\n",
            " 10  PAY_5                       30000 non-null  int64\n",
            " 11  PAY_6                       30000 non-null  int64\n",
            " 12  BILL_AMT1                   30000 non-null  int64\n",
            " 13  BILL_AMT2                   30000 non-null  int64\n",
            " 14  BILL_AMT3                   30000 non-null  int64\n",
            " 15  BILL_AMT4                   30000 non-null  int64\n",
            " 16  BILL_AMT5                   30000 non-null  int64\n",
            " 17  BILL_AMT6                   30000 non-null  int64\n",
            " 18  PAY_AMT1                    30000 non-null  int64\n",
            " 19  PAY_AMT2                    30000 non-null  int64\n",
            " 20  PAY_AMT3                    30000 non-null  int64\n",
            " 21  PAY_AMT4                    30000 non-null  int64\n",
            " 22  PAY_AMT5                    30000 non-null  int64\n",
            " 23  PAY_AMT6                    30000 non-null  int64\n",
            " 24  default payment next month  30000 non-null  int64\n",
            "dtypes: int64(25)\n",
            "memory usage: 5.7 MB\n"
          ],
          "name": "stdout"
        }
      ]
    },
    {
      "cell_type": "code",
      "metadata": {
        "id": "y20SZMXoAjT-",
        "colab": {
          "base_uri": "https://localhost:8080/"
        },
        "outputId": "5b4a4e8e-1b72-4446-fe0f-459c7d98b5d8"
      },
      "source": [
        "print(data.isna().sum())"
      ],
      "execution_count": 7,
      "outputs": [
        {
          "output_type": "stream",
          "text": [
            "ID                            0\n",
            "LIMIT_BAL                     0\n",
            "SEX                           0\n",
            "EDUCATION                     0\n",
            "MARRIAGE                      0\n",
            "AGE                           0\n",
            "PAY_0                         0\n",
            "PAY_2                         0\n",
            "PAY_3                         0\n",
            "PAY_4                         0\n",
            "PAY_5                         0\n",
            "PAY_6                         0\n",
            "BILL_AMT1                     0\n",
            "BILL_AMT2                     0\n",
            "BILL_AMT3                     0\n",
            "BILL_AMT4                     0\n",
            "BILL_AMT5                     0\n",
            "BILL_AMT6                     0\n",
            "PAY_AMT1                      0\n",
            "PAY_AMT2                      0\n",
            "PAY_AMT3                      0\n",
            "PAY_AMT4                      0\n",
            "PAY_AMT5                      0\n",
            "PAY_AMT6                      0\n",
            "default payment next month    0\n",
            "dtype: int64\n"
          ],
          "name": "stdout"
        }
      ]
    },
    {
      "cell_type": "code",
      "metadata": {
        "colab": {
          "base_uri": "https://localhost:8080/"
        },
        "id": "1Ed-ayOuNvp_",
        "outputId": "13e0bfc3-7ec8-4219-fb3d-59fa739ce1a2"
      },
      "source": [
        "data['EDUCATION'].unique()"
      ],
      "execution_count": 8,
      "outputs": [
        {
          "output_type": "execute_result",
          "data": {
            "text/plain": [
              "array([2, 1, 3, 5, 4, 6, 0])"
            ]
          },
          "metadata": {
            "tags": []
          },
          "execution_count": 8
        }
      ]
    },
    {
      "cell_type": "code",
      "metadata": {
        "colab": {
          "base_uri": "https://localhost:8080/"
        },
        "id": "OI-2nPXCOQXX",
        "outputId": "203aead7-c433-43d8-e305-e4b7ca72353c"
      },
      "source": [
        "# Change values 4, 5, 6 to 0 and define 0 as 'others'\n",
        "# 1=graduate school, 2=university, 3=high school, 0=others\n",
        "\n",
        "data[\"EDUCATION\"] = data[\"EDUCATION\"].replace({4:0,5:0,6:0})\n",
        "data[\"EDUCATION\"].value_counts()"
      ],
      "execution_count": null,
      "outputs": [
        {
          "output_type": "execute_result",
          "data": {
            "text/plain": [
              "2    14030\n",
              "1    10585\n",
              "3     4917\n",
              "0      468\n",
              "Name: EDUCATION, dtype: int64"
            ]
          },
          "metadata": {
            "tags": []
          },
          "execution_count": 42
        }
      ]
    },
    {
      "cell_type": "code",
      "metadata": {
        "id": "csaY8MsEPNY2",
        "colab": {
          "base_uri": "https://localhost:8080/"
        },
        "outputId": "f490e596-61c5-4a80-edca-b760a3ded7c7"
      },
      "source": [
        "data[\"MARRIAGE\"].unique()"
      ],
      "execution_count": 9,
      "outputs": [
        {
          "output_type": "execute_result",
          "data": {
            "text/plain": [
              "array([1, 2, 3, 0])"
            ]
          },
          "metadata": {
            "tags": []
          },
          "execution_count": 9
        }
      ]
    },
    {
      "cell_type": "code",
      "metadata": {
        "id": "NOW6vMx7OqBW"
      },
      "source": [
        "x_train=data[['ID', 'LIMIT_BAL', 'SEX', 'EDUCATION', 'MARRIAGE', 'AGE','PAY_0',\n",
        "       'PAY_2', 'PAY_3', 'PAY_4','BILL_AMT1', 'BILL_AMT2',\n",
        "       'BILL_AMT3', 'BILL_AMT4', 'PAY_AMT1',\n",
        "       'PAY_AMT2', 'PAY_AMT3', 'PAY_AMT4', 'PAY_AMT5', 'PAY_AMT6']]\n",
        "y_train=data['default payment next month']"
      ],
      "execution_count": 11,
      "outputs": []
    },
    {
      "cell_type": "code",
      "metadata": {
        "id": "WWEP76aJOz0d",
        "colab": {
          "base_uri": "https://localhost:8080/"
        },
        "outputId": "f7c7f80b-8206-4c7d-d9d4-3d13f8daf0f5"
      },
      "source": [
        "print(y_train.head)\n",
        "y_train.describe()"
      ],
      "execution_count": 12,
      "outputs": [
        {
          "output_type": "stream",
          "text": [
            "<bound method NDFrame.head of 0        1\n",
            "1        1\n",
            "2        0\n",
            "3        0\n",
            "4        0\n",
            "        ..\n",
            "29995    0\n",
            "29996    0\n",
            "29997    1\n",
            "29998    1\n",
            "29999    1\n",
            "Name: default payment next month, Length: 30000, dtype: int64>\n"
          ],
          "name": "stdout"
        },
        {
          "output_type": "execute_result",
          "data": {
            "text/plain": [
              "count    30000.000000\n",
              "mean         0.221200\n",
              "std          0.415062\n",
              "min          0.000000\n",
              "25%          0.000000\n",
              "50%          0.000000\n",
              "75%          0.000000\n",
              "max          1.000000\n",
              "Name: default payment next month, dtype: float64"
            ]
          },
          "metadata": {
            "tags": []
          },
          "execution_count": 12
        }
      ]
    },
    {
      "cell_type": "code",
      "metadata": {
        "id": "vieUwXA9ZFSC"
      },
      "source": [
        "df=pd.concat([x_train[['AGE','LIMIT_BAL', 'SEX', 'EDUCATION', 'MARRIAGE',]],y_train],axis=1)\n"
      ],
      "execution_count": 50,
      "outputs": []
    },
    {
      "cell_type": "code",
      "metadata": {
        "colab": {
          "base_uri": "https://localhost:8080/",
          "height": 420
        },
        "id": "5qjVadexR4yj",
        "outputId": "cb64e10c-7620-4c32-eea4-960432fb316c"
      },
      "source": [
        "  # PERFORMING CO-RELATIONAL ANALYSIS\n",
        "col=df.corr()\n",
        "\n",
        "sns.heatmap(col,annot=True,cmap='jet',fmt='.2f',annot_kws={'size':4},\n",
        "            cbar=True)\n",
        "\n",
        "#i selected some of the features while creating a HEATMAP ,so that it would be clear"
      ],
      "execution_count": 52,
      "outputs": [
        {
          "output_type": "execute_result",
          "data": {
            "text/plain": [
              "<matplotlib.axes._subplots.AxesSubplot at 0x7fcca7cf9350>"
            ]
          },
          "metadata": {
            "tags": []
          },
          "execution_count": 52
        },
        {
          "output_type": "display_data",
          "data": {
            "image/png": "[encoded data removed]",
            "text/plain": [
              "<Figure size 432x288 with 2 Axes>"
            ]
          },
          "metadata": {
            "tags": [],
            "needs_background": "light"
          }
        }
      ]
    },
    {
      "cell_type": "code",
      "metadata": {
        "id": "hUfPG6Opcm06"
      },
      "source": [
        "#TO find performance \n"
      ],
      "execution_count": 34,
      "outputs": []
    },
    {
      "cell_type": "code",
      "metadata": {
        "id": "226bx7Ata2_5"
      },
      "source": [
        "from sklearn.linear_model import LinearRegression\n",
        "lr=LinearRegression()\n",
        "lr.fit(x_train,y_train)\n",
        "pred_train=lr.predict(x_train)\n"
      ],
      "execution_count": 26,
      "outputs": []
    },
    {
      "cell_type": "code",
      "metadata": {
        "colab": {
          "base_uri": "https://localhost:8080/"
        },
        "id": "OrPnAJdcbQcN",
        "outputId": "0f308522-2cbe-4fc5-f211-4f6eba778a18"
      },
      "source": [
        "pred_train #print"
      ],
      "execution_count": 28,
      "outputs": [
        {
          "output_type": "execute_result",
          "data": {
            "text/plain": [
              "array([0.47435529, 0.17588488, 0.22961685, ..., 0.72593788, 0.29121256,\n",
              "       0.2810078 ])"
            ]
          },
          "metadata": {
            "tags": []
          },
          "execution_count": 28
        }
      ]
    },
    {
      "cell_type": "code",
      "metadata": {
        "id": "AR8PjSoLb_QF"
      },
      "source": [
        "print('y=%.fx + %.2fc'%(m,c))"
      ],
      "execution_count": null,
      "outputs": []
    },
    {
      "cell_type": "code",
      "metadata": {
        "colab": {
          "base_uri": "https://localhost:8080/"
        },
        "id": "Q7IL8aswd4vJ",
        "outputId": "e6de1b65-0f12-4d3c-ed73-1a6639edb0ea"
      },
      "source": [
        "from sklearn.metrics import mean_squared_error,r2_score\n",
        "print(\"MSE= \",mean_squared_error(y_train,pred_train))\n",
        "print(\"R2= \",r2_score(y_train,pred_train))"
      ],
      "execution_count": 35,
      "outputs": [
        {
          "output_type": "stream",
          "text": [
            "MSE=  0.15092742192706313\n",
            "R2=  0.12389312528465035\n"
          ],
          "name": "stdout"
        }
      ]
    },
    {
      "cell_type": "code",
      "metadata": {
        "colab": {
          "base_uri": "https://localhost:8080/"
        },
        "id": "I6DrJKMmbZiY",
        "outputId": "935b31c9-7433-4043-c767-32476c7296e1"
      },
      "source": [
        "\n",
        "c=lr.intercept_\n",
        "m=lr.coef_\n",
        "print(\"SLOPE= \",m)\n",
        "print(\"INTERCEPT= \",c)\n"
      ],
      "execution_count": 36,
      "outputs": [
        {
          "output_type": "stream",
          "text": [
            "SLOPE=  [-9.50675617e-08 -9.22338733e-08 -1.44567682e-02 -1.51401609e-02\n",
            " -2.38102715e-02  1.40380923e-03  9.59855234e-02  2.00822997e-02\n",
            "  1.19418814e-02  7.64285208e-03 -6.30783620e-07  1.62575288e-07\n",
            "  2.86422093e-08  2.33954266e-08 -7.57568097e-07 -2.20661693e-07\n",
            " -2.56751026e-08 -2.12082953e-07 -2.66094925e-07 -1.26160656e-07]\n",
            "INTERCEPT=  0.31505810912391063\n"
          ],
          "name": "stdout"
        }
      ]
    },
    {
      "cell_type": "code",
      "metadata": {
        "colab": {
          "base_uri": "https://localhost:8080/",
          "height": 295
        },
        "id": "etbxmT87eazb",
        "outputId": "af1ea28f-07e4-48f6-e306-7640f27fcbf5"
      },
      "source": [
        "import matplotlib.pyplot as plt\n",
        "plt.scatter(x_train['LIMIT_BAL'],pred_train,label='REGRESSION SCALE',c='y',lw=2)\n",
        "plt.legend()"
      ],
      "execution_count": 60,
      "outputs": [
        {
          "output_type": "execute_result",
          "data": {
            "text/plain": [
              "<matplotlib.legend.Legend at 0x7fcca7bd38d0>"
            ]
          },
          "metadata": {
            "tags": []
          },
          "execution_count": 60
        },
        {
          "output_type": "display_data",
          "data": {
            "image/png": "[encoded data removed]",
            "text/plain": [
              "<Figure size 432x288 with 1 Axes>"
            ]
          },
          "metadata": {
            "tags": [],
            "needs_background": "light"
          }
        }
      ]
    },
    {
      "cell_type": "code",
      "metadata": {
        "colab": {
          "base_uri": "https://localhost:8080/"
        },
        "id": "rPlgi9VcpmIJ",
        "outputId": "e59151c7-7957-499d-f0b2-76c920049c96"
      },
      "source": [
        "from sklearn.linear_model import ElasticNet\n",
        "lr=ElasticNet()\n",
        "lr.fit(x_train,y_train)\n",
        "pred_train=lr.predict(x_train)\n",
        "print(pred_train)\n",
        "print('TRain MSE=',mean_squared_error(y_train,lr.predict(x_train)))\n",
        "print('R2 train=',r2_score(y_train,lr.predict(x_train)))\n"
      ],
      "execution_count": 63,
      "outputs": [
        {
          "output_type": "stream",
          "text": [
            "[0.29727364 0.25195619 0.25795703 ... 0.27501188 0.18227663 0.27765763]\n",
            "TRain MSE= 0.16702584018023137\n",
            "R2 train= 0.0304446669225934\n"
          ],
          "name": "stdout"
        }
      ]
    },
    {
      "cell_type": "code",
      "metadata": {
        "colab": {
          "base_uri": "https://localhost:8080/"
        },
        "id": "7hsbbzCnqV7s",
        "outputId": "f9c2e12a-e8cd-4131-e4af-34d1ea4e14a5"
      },
      "source": [
        "from sklearn.linear_model import Lasso\n",
        "lr=Lasso()\n",
        "lr.fit(x_train,y_train)\n",
        "pred_train=lr.predict(x_train)\n",
        "print(pred_train)\n",
        "print('TRain MSE=',mean_squared_error(y_train,lr.predict(x_train)))\n",
        "print('R2 train=',r2_score(y_train,lr.predict(x_train)))"
      ],
      "execution_count": 65,
      "outputs": [
        {
          "output_type": "stream",
          "text": [
            "[0.29717065 0.25184171 0.25789159 ... 0.27512143 0.18247334 0.27774009]\n",
            "TRain MSE= 0.16702587057716675\n",
            "R2 train= 0.030444490473782837\n"
          ],
          "name": "stdout"
        }
      ]
    },
    {
      "cell_type": "code",
      "metadata": {
        "colab": {
          "base_uri": "https://localhost:8080/"
        },
        "id": "XcVrMDHpp8Op",
        "outputId": "fb51c063-1549-41d6-8097-d351f73d42a6"
      },
      "source": [
        "from sklearn.linear_model import Ridge\n",
        "lr=Ridge()\n",
        "lr.fit(x_train,y_train)\n",
        "pred_train=lr.predict(x_train)\n",
        "print(pred_train)\n",
        "print('TRain MSE=',mean_squared_error(y_train,lr.predict(x_train)))\n",
        "print('R2 train=',r2_score(y_train,lr.predict(x_train)))"
      ],
      "execution_count": 64,
      "outputs": [
        {
          "output_type": "stream",
          "text": [
            "[0.47434731 0.17589433 0.22962002 ... 0.72592552 0.29120434 0.28100585]\n",
            "TRain MSE= 0.15092742194412312\n",
            "R2 train= 0.12389312518562001\n"
          ],
          "name": "stdout"
        }
      ]
    },
    {
      "cell_type": "markdown",
      "metadata": {
        "id": "r2CquNWyqOKI"
      },
      "source": [
        "CLEARLY RIDGE IS SHOWING BETTER PERFORMANCE THAN ELASTIC NET AND LASSO\n"
      ]
    },
    {
      "cell_type": "code",
      "metadata": {
        "colab": {
          "base_uri": "https://localhost:8080/"
        },
        "id": "ouXugtwTrFfH",
        "outputId": "be6b7987-e434-4cc5-b371-aded803b9876"
      },
      "source": [
        "# TERY ANOTHER MODEL\n",
        "####### load a model\n",
        "from sklearn.tree import DecisionTreeRegressor\n",
        "lr=DecisionTreeRegressor(max_depth=3)\n",
        "lr.fit(x_train,y_train)\n",
        "pred_train=lr.predict(x_train)\n",
        "print(pred_train)\n",
        "print('TRain MSE=',mean_squared_error(y_train,lr.predict(x_train)))\n",
        "print('R2 train=',r2_score(y_train,lr.predict(x_train)))"
      ],
      "execution_count": 67,
      "outputs": [
        {
          "output_type": "stream",
          "text": [
            "[0.54814815 0.37312415 0.11501992 ... 0.71502058 0.11501992 0.11501992]\n",
            "TRain MSE= 0.13825109600521085\n",
            "R2 train= 0.19747694553723594\n"
          ],
          "name": "stdout"
        }
      ]
    },
    {
      "cell_type": "markdown",
      "metadata": {
        "id": "F3EcJd7mrbN1"
      },
      "source": [
        "CLEARLY DECISION TREE IS SHOWING BETTER PERFORMANCE THAN ELASTIC NET\n"
      ]
    },
    {
      "cell_type": "code",
      "metadata": {
        "colab": {
          "base_uri": "https://localhost:8080/"
        },
        "id": "z2e4fWVCrf3F",
        "outputId": "39a2dc2a-bc25-40a2-e93c-a669cdfb61d4"
      },
      "source": [
        "#Try another model\n",
        "from sklearn.ensemble import RandomForestRegressor\n",
        "lr=RandomForestRegressor(max_depth=3)\n",
        "lr.fit(x_train,y_train)\n",
        "pred_train=lr.predict(x_train)\n",
        "print(pred_train)\n",
        "print('TRain MSE=',mean_squared_error(y_train,lr.predict(x_train)))\n",
        "print('R2 train=',r2_score(y_train,lr.predict(x_train)))"
      ],
      "execution_count": 68,
      "outputs": [
        {
          "output_type": "stream",
          "text": [
            "[0.60797604 0.39505973 0.13939486 ... 0.71873228 0.11505243 0.11353227]\n",
            "TRain MSE= 0.13732164118241164\n",
            "R2 train= 0.20287226568247285\n"
          ],
          "name": "stdout"
        }
      ]
    }
  ]
}